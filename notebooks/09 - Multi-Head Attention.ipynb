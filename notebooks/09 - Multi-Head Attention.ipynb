{
 "cells": [
  {
   "cell_type": "markdown",
   "metadata": {},
   "source": [
    "# Multi-Head Attention\n",
    "The last part of attention. This is going to be a lot of code. Brace yourselves.\n",
    "\n",
    "![Brace yourself](./img/brace.jpg)"
   ]
  },
  {
   "cell_type": "markdown",
   "metadata": {},
   "source": [
    "This is going to be t "
   ]
  },
  {
   "cell_type": "code",
   "execution_count": 3,
   "metadata": {},
   "outputs": [
    {
     "data": {
      "text/plain": [
       "<torch._C.Generator at 0x7443e0291030>"
      ]
     },
     "execution_count": 3,
     "metadata": {},
     "output_type": "execute_result"
    }
   ],
   "source": [
    "import torch\n",
    "from torch import nn\n",
    "\n",
    "torch.manual_seed(123)"
   ]
  },
  {
   "cell_type": "code",
   "execution_count": 4,
   "metadata": {},
   "outputs": [
    {
     "data": {
      "text/plain": [
       "(3, 2)"
      ]
     },
     "execution_count": 4,
     "metadata": {},
     "output_type": "execute_result"
    }
   ],
   "source": [
    "context = torch.tensor(\n",
    "  [[0.43, 0.15, 0.89], # Your     (x^1)\n",
    "   [0.55, 0.87, 0.66], # journey  (x^2)\n",
    "   [0.57, 0.85, 0.64], # starts   (x^3)\n",
    "   [0.22, 0.58, 0.33], # with     (x^4)\n",
    "   [0.77, 0.25, 0.10], # one      (x^5)\n",
    "   [0.05, 0.80, 0.55]] # step     (x^6)\n",
    ")\n",
    "\n",
    "batch = torch.stack((context, context), dim=0)\n",
    "d = context.shape\n",
    "d_in = context.shape[1]\n",
    "d_out = context.shape[1] - 1\n",
    "\n",
    "d_in, d_out"
   ]
  },
  {
   "cell_type": "code",
   "execution_count": 5,
   "metadata": {},
   "outputs": [],
   "source": [
    "\n",
    "class CausalAttention(nn.Module):\n",
    "  def __init__(self, d_in, d_out, context_length, dropout, qkv_bias=False):\n",
    "    super().__init__()\n",
    "\n",
    "    self.d_out = d_out\n",
    "    \n",
    "    self.W_query = nn.Linear(d_in, d_out, bias=qkv_bias)\n",
    "    self.W_key = nn.Linear(d_in, d_out, bias=qkv_bias)\n",
    "    self.W_value = nn.Linear(d_in, d_out, bias=qkv_bias)\n",
    "    \n",
    "    self.dropout = nn.Dropout(dropout)\n",
    "\n",
    "    self.mask = torch.triu(\n",
    "      torch.ones(context_length, context_length),\n",
    "      diagonal=1\n",
    "    )\n",
    "\n",
    "  def forward(self, x): \n",
    "    b, num_tokens, d_in = x.shape\n",
    "    keys = self.W_query(x)\n",
    "    queries = self.W_query(x)\n",
    "    values = self.W_value(x)\n",
    "\n",
    "    # transpose the last 2 dimensions while leaving the batch dimension alone.\n",
    "    attn_scores = queries @ keys.transpose(1, 2)\n",
    "    attn_scores.masked_fill(\n",
    "      self.mask.bool()[:num_tokens, :num_tokens], -torch.inf\n",
    "    )\n",
    "    attn_weights = torch.softmax(\n",
    "      attn_scores / keys.shape[-1]**0.5, dim=-1\n",
    "    )\n",
    "\n",
    "    attn_weights = self.dropout(attn_weights)\n",
    "\n",
    "    context_vec = attn_weights @ values\n",
    "\n",
    "    return context_vec\n"
   ]
  },
  {
   "cell_type": "code",
   "execution_count": 6,
   "metadata": {},
   "outputs": [
    {
     "data": {
      "text/plain": [
       "tensor([[[-0.5287, -0.0976],\n",
       "         [-0.5293, -0.1053],\n",
       "         [-0.5293, -0.1052],\n",
       "         [-0.5287, -0.1072],\n",
       "         [-0.5287, -0.1038],\n",
       "         [-0.5288, -0.1080]],\n",
       "\n",
       "        [[-0.5287, -0.0976],\n",
       "         [-0.5293, -0.1053],\n",
       "         [-0.5293, -0.1052],\n",
       "         [-0.5287, -0.1072],\n",
       "         [-0.5287, -0.1038],\n",
       "         [-0.5288, -0.1080]]], grad_fn=<UnsafeViewBackward0>)"
      ]
     },
     "execution_count": 6,
     "metadata": {},
     "output_type": "execute_result"
    }
   ],
   "source": [
    "torch.manual_seed(123)\n",
    "context_length = batch.shape[1]\n",
    "ca = CausalAttention(d_in, d_out, context_length, 0.0)\n",
    "ca(batch)\n"
   ]
  },
  {
   "cell_type": "code",
   "execution_count": 7,
   "metadata": {},
   "outputs": [],
   "source": [
    "class MultiHeadAttentionWrapper(nn.Module):\n",
    "  def __init__(self, d_in, d_out, context_length, dropout, num_heads, qkv_bias=False):\n",
    "    super().__init__()\n",
    "\n",
    "    self.heads = nn.ModuleList(\n",
    "      [\n",
    "        CausalAttention(d_in, d_out, context_length, dropout, qkv_bias) \n",
    "        for _ in range(num_heads)\n",
    "      ]\n",
    "    )\n",
    "\n",
    "  def forward(self, x):\n",
    "    return torch.cat([head(x) for head in self.heads], dim=-1)\n",
    "\n"
   ]
  },
  {
   "cell_type": "code",
   "execution_count": 8,
   "metadata": {},
   "outputs": [
    {
     "data": {
      "text/plain": [
       "(tensor([[[-0.5287, -0.0976,  0.5122,  0.3448],\n",
       "          [-0.5293, -0.1053,  0.5123,  0.3449],\n",
       "          [-0.5293, -0.1052,  0.5121,  0.3448],\n",
       "          [-0.5287, -0.1072,  0.5096,  0.3438],\n",
       "          [-0.5287, -0.1038,  0.5078,  0.3427],\n",
       "          [-0.5288, -0.1080,  0.5113,  0.3446]],\n",
       " \n",
       "         [[-0.5287, -0.0976,  0.5122,  0.3448],\n",
       "          [-0.5293, -0.1053,  0.5123,  0.3449],\n",
       "          [-0.5293, -0.1052,  0.5121,  0.3448],\n",
       "          [-0.5287, -0.1072,  0.5096,  0.3438],\n",
       "          [-0.5287, -0.1038,  0.5078,  0.3427],\n",
       "          [-0.5288, -0.1080,  0.5113,  0.3446]]], grad_fn=<CatBackward0>),\n",
       " torch.Size([2, 6, 4]))"
      ]
     },
     "execution_count": 8,
     "metadata": {},
     "output_type": "execute_result"
    }
   ],
   "source": [
    "torch.manual_seed(123)\n",
    "context_length = batch.shape[1]\n",
    "mha = MultiHeadAttentionWrapper(d_in, d_out, context_length, 0.0, num_heads=2)\n",
    "context_vecs = mha(batch)\n",
    "context_vecs, context_vecs.shape"
   ]
  },
  {
   "cell_type": "code",
   "execution_count": 9,
   "metadata": {},
   "outputs": [],
   "source": [
    "class MultiHeadAttention(nn.Module):\n",
    "  def __init__(self, d_in, d_out, context_length, dropout, num_heads, qkv_bias=False):\n",
    "    super().__init__()\n",
    "\n",
    "    self.d_out = d_out\n",
    "    self.num_heads = num_heads\n",
    "    self.head_dim = d_out // num_heads # Reduce the projection dimension to match the output dim\n",
    "\n",
    "    self.W_query = nn.Linear(d_in, d_out, bias=qkv_bias)\n",
    "    self.W_key = nn.Linear(d_in, d_out, bias=qkv_bias)\n",
    "    self.W_value = nn.Linear(d_in, d_out, bias=qkv_bias)\n",
    "    self.dropout = nn.Dropout(dropout)\n",
    "\n",
    "    self.mask = torch.triu(torch.ones(context_length, context_length), diagonal=1)\n",
    "\n",
    "  def forward(self, x):\n",
    "    b, num_tokens, d_in = x.shape\n",
    "\n",
    "    keys = self.W_key(x)\n",
    "    queries = self.W_query(x)\n",
    "    values = self.W_value(x)\n",
    "\n",
    "    keys = keys.view(b, num_tokens, self.num_heads, self.head_dim)\n",
    "    values = values.view(b, num_tokens, self.num_heads, self.head_dim)\n",
    "    queries = queries.view(b, num_tokens, self.num_heads, self.head_dim)\n",
    "    \n",
    "    keys = keys.transpose(1, 2)\n",
    "    queries = queries.transpose(1, 2)\n",
    "    values = values.transpose(1, 2)\n",
    "    \n",
    "    attn_scores = queries @ keys.transpose(2, 3)\n",
    "\n",
    "    mask_bool = self.mask.bool()[:num_tokens, :num_tokens]\n",
    "\n",
    "    attn_scores.masked_fill_(mask_bool, -torch.inf)\n",
    "\n",
    "    print(\"attn_scores\", attn_scores)\n",
    "\n",
    "    attn_weights = torch.softmax(attn_scores / keys.shape[-1] ** 0.5, dim=-1)\n",
    "    attn_weights = self.dropout(attn_weights)\n",
    "\n",
    "    context_vec = torch.transpose((attn_weights @ values), 1, 2)\n",
    "\n",
    "    context_vec = context_vec.contiguous().view(b, num_tokens, self.d_out)\n",
    "\n",
    "    return context_vec"
   ]
  },
  {
   "cell_type": "code",
   "execution_count": 17,
   "metadata": {},
   "outputs": [
    {
     "name": "stdout",
     "output_type": "stream",
     "text": [
      "attn_scores tensor([[[[ 0.2477,    -inf,    -inf,    -inf,    -inf,    -inf],\n",
      "          [ 0.1301,  0.2214,    -inf,    -inf,    -inf,    -inf],\n",
      "          [ 0.1311,  0.2198,  0.2194,    -inf,    -inf,    -inf],\n",
      "          [ 0.0395,  0.1158,  0.1157,  0.0668,    -inf,    -inf],\n",
      "          [ 0.1120,  0.1295,  0.1291,  0.0646,  0.0858,    -inf],\n",
      "          [ 0.0365,  0.1395,  0.1394,  0.0821,  0.0989,  0.0875]],\n",
      "\n",
      "         [[-0.0366,    -inf,    -inf,    -inf,    -inf,    -inf],\n",
      "          [-0.2326, -0.2530,    -inf,    -inf,    -inf,    -inf],\n",
      "          [-0.2270, -0.2472, -0.2359,    -inf,    -inf,    -inf],\n",
      "          [-0.1564, -0.1675, -0.1606, -0.1001,    -inf,    -inf],\n",
      "          [-0.0618, -0.0731, -0.0682, -0.0500,  0.0386,    -inf],\n",
      "          [-0.2178, -0.2314, -0.2223, -0.1366,  0.0035, -0.2325]]],\n",
      "\n",
      "\n",
      "        [[[ 0.2477,    -inf,    -inf,    -inf,    -inf,    -inf],\n",
      "          [ 0.1301,  0.2214,    -inf,    -inf,    -inf,    -inf],\n",
      "          [ 0.1311,  0.2198,  0.2194,    -inf,    -inf,    -inf],\n",
      "          [ 0.0395,  0.1158,  0.1157,  0.0668,    -inf,    -inf],\n",
      "          [ 0.1120,  0.1295,  0.1291,  0.0646,  0.0858,    -inf],\n",
      "          [ 0.0365,  0.1395,  0.1394,  0.0821,  0.0989,  0.0875]],\n",
      "\n",
      "         [[-0.0366,    -inf,    -inf,    -inf,    -inf,    -inf],\n",
      "          [-0.2326, -0.2530,    -inf,    -inf,    -inf,    -inf],\n",
      "          [-0.2270, -0.2472, -0.2359,    -inf,    -inf,    -inf],\n",
      "          [-0.1564, -0.1675, -0.1606, -0.1001,    -inf,    -inf],\n",
      "          [-0.0618, -0.0731, -0.0682, -0.0500,  0.0386,    -inf],\n",
      "          [-0.2178, -0.2314, -0.2223, -0.1366,  0.0035, -0.2325]]]],\n",
      "       grad_fn=<MaskedFillBackward0>)\n"
     ]
    },
    {
     "data": {
      "text/plain": [
       "(tensor([[[-0.3132, -0.2272,  0.4772,  0.1063],\n",
       "          [-0.2308,  0.0329,  0.5764,  0.3007],\n",
       "          [-0.2059,  0.1190,  0.6097,  0.3654],\n",
       "          [-0.1642,  0.1340,  0.5431,  0.3503],\n",
       "          [-0.1689,  0.1794,  0.5296,  0.3389],\n",
       "          [-0.1407,  0.1699,  0.5040,  0.3403]],\n",
       " \n",
       "         [[-0.3132, -0.2272,  0.4772,  0.1063],\n",
       "          [-0.2308,  0.0329,  0.5764,  0.3007],\n",
       "          [-0.2059,  0.1190,  0.6097,  0.3654],\n",
       "          [-0.1642,  0.1340,  0.5431,  0.3503],\n",
       "          [-0.1689,  0.1794,  0.5296,  0.3389],\n",
       "          [-0.1407,  0.1699,  0.5040,  0.3403]]], grad_fn=<ViewBackward0>),\n",
       " torch.Size([2, 6, 4]))"
      ]
     },
     "execution_count": 17,
     "metadata": {},
     "output_type": "execute_result"
    }
   ],
   "source": [
    "torch.manual_seed(123)\n",
    "\n",
    "batch_size, context_length, d_in = batch.shape\n",
    "d_out = 4\n",
    "mha = MultiHeadAttention(d_in, d_out, context_length, 0.0, num_heads=2)\n",
    "\n",
    "context_vecs = mha(batch)\n",
    "\n",
    "context_vecs, context_vecs.shape\n"
   ]
  },
  {
   "cell_type": "markdown",
   "metadata": {},
   "source": [
    "## TTNN Example"
   ]
  },
  {
   "cell_type": "code",
   "execution_count": 11,
   "metadata": {},
   "outputs": [
    {
     "name": "stderr",
     "output_type": "stream",
     "text": [
      "2025-05-04 20:53:37.307 | DEBUG    | ttnn.library_tweaks:prepare_dir_as_metal_home:54 - Existing installation of 0.57.0rc60+any detected\n"
     ]
    },
    {
     "name": "stderr",
     "output_type": "stream",
     "text": [
      "2025-05-04 20:53:37.331 | DEBUG    | ttnn:<module>:83 - Initial ttnn.CONFIG:\n",
      "Config{cache_path=/home/avgdev/.cache/ttnn,model_cache_path=/home/avgdev/.cache/ttnn/models,tmp_dir=/tmp/ttnn,enable_model_cache=false,enable_fast_runtime_mode=true,throw_exception_on_fallback=false,enable_logging=false,enable_graph_report=false,enable_detailed_buffer_report=false,enable_detailed_tensor_report=false,enable_comparison_mode=false,comparison_mode_should_raise_exception=false,comparison_mode_pcc=0.9999,root_report_path=generated/ttnn/reports,report_name=std::nullopt,std::nullopt}\n"
     ]
    },
    {
     "data": {
      "text/plain": [
       "<torch._C.Generator at 0x7443e0291030>"
      ]
     },
     "execution_count": 11,
     "metadata": {},
     "output_type": "execute_result"
    }
   ],
   "source": [
    "import ttnn\n",
    "\n",
    "torch.manual_seed(123)"
   ]
  },
  {
   "cell_type": "code",
   "execution_count": null,
   "metadata": {},
   "outputs": [],
   "source": [
    "core_grid_y = 8\n",
    "core_grid_x = 8\n",
    "MINUS_INFINITY=-1e9\n",
    "\n",
    "#ttnn.set_printoptions(profile=\"short\")\n",
    "\n",
    "class MultiHeadAttention_ttnn(nn.Module):\n",
    "  def __init__(self, d_in, d_out, context_length, dropout, num_heads, device, qkv_bias=False):\n",
    "    super().__init__()\n",
    "\n",
    "    self.device = device\n",
    "    self.dropout_prob = dropout\n",
    "\n",
    "    self.d_out = d_out\n",
    "    self.num_heads = num_heads\n",
    "    self.head_dim = d_out // num_heads # Reduce the projection dimension to match the output dim\n",
    "\n",
    "    self.W_query = nn.Linear(d_in, d_out, bias=qkv_bias)\n",
    "    self.W_key = nn.Linear(d_in, d_out, bias=qkv_bias)\n",
    "    self.W_value = nn.Linear(d_in, d_out, bias=qkv_bias)\n",
    "    self.dropout = nn.Dropout(dropout)\n",
    "    self.mask = torch.triu(torch.ones(context_length, context_length), diagonal=1)\n",
    "\n",
    "    self.W_query_ttnn = ttnn.from_torch(\n",
    "      self.W_query.weight,\n",
    "      dtype=ttnn.bfloat16,\n",
    "      layout=ttnn.TILE_LAYOUT,\n",
    "      device=self.device,\n",
    "      memory_config=ttnn.L1_MEMORY_CONFIG\n",
    "    )\n",
    "    self.W_key_ttnn = ttnn.from_torch(\n",
    "      self.W_key.weight,\n",
    "      dtype=ttnn.bfloat16,\n",
    "      layout=ttnn.TILE_LAYOUT,\n",
    "      device=self.device,\n",
    "      memory_config=ttnn.L1_MEMORY_CONFIG\n",
    "    )\n",
    "    self.W_value_ttnn = ttnn.from_torch(\n",
    "      self.W_value.weight,\n",
    "      dtype=ttnn.bfloat16,\n",
    "      layout=ttnn.TILE_LAYOUT,\n",
    "      device=self.device,\n",
    "      memory_config=ttnn.L1_MEMORY_CONFIG\n",
    "    )\n",
    "    self.mask_ttnn = ttnn.from_torch(\n",
    "      self.mask,\n",
    "      dtype=ttnn.bfloat16,\n",
    "      layout=ttnn.TILE_LAYOUT,\n",
    "      device=self.device,\n",
    "      memory_config=ttnn.L1_MEMORY_CONFIG\n",
    "    )\n",
    "\n",
    "  def forward(self, x):\n",
    "    b, num_tokens, d_in = x.shape\n",
    "\n",
    "    x_ttnn = ttnn.from_torch(\n",
    "      x,\n",
    "      dtype=ttnn.bfloat16,\n",
    "      layout=ttnn.TILE_LAYOUT,\n",
    "      device=self.device\n",
    "    )\n",
    "\n",
    "    keys_ttnn = ttnn.linear(\n",
    "      x_ttnn,\n",
    "      self.W_key_ttnn,\n",
    "      transpose_b=True,\n",
    "      core_grid=ttnn.CoreGrid(y=core_grid_y, x=core_grid_x)\n",
    "    )\n",
    "    queries_ttnn = ttnn.linear(\n",
    "      x_ttnn,\n",
    "      self.W_query_ttnn,\n",
    "      transpose_b=True,\n",
    "      core_grid=ttnn.CoreGrid(y=core_grid_y, x=core_grid_x)\n",
    "    )\n",
    "    values_ttnn = ttnn.linear(\n",
    "      x_ttnn,\n",
    "      self.W_value_ttnn,\n",
    "      transpose_b=True,\n",
    "      core_grid=ttnn.CoreGrid(y=core_grid_y, x=core_grid_x)\n",
    "    )\n",
    "    \n",
    "    keys_ttnn = ttnn.reshape(keys_ttnn, (b, num_tokens, self.num_heads, self.head_dim))\n",
    "    values_ttnn = ttnn.reshape(values_ttnn, (b, num_tokens, self.num_heads, self.head_dim))\n",
    "    queries_ttnn = ttnn.reshape(queries_ttnn, (b, num_tokens, self.num_heads, self.head_dim))\n",
    "\n",
    "    keys_transposed_ttnn = ttnn.permute(keys_ttnn, (0, 2, 3, 1))\n",
    "    values_ttnn = ttnn.permute(values_ttnn, (0, 2, 1, 3))\n",
    "    queries_ttnn = ttnn.permute(queries_ttnn, (0, 2, 1, 3))\n",
    "\n",
    "    attn_scores_ttnn = ttnn.matmul(\n",
    "      queries_ttnn, \n",
    "      keys_transposed_ttnn,\n",
    "      core_grid=ttnn.CoreGrid(y=core_grid_y, x=core_grid_x)\n",
    "    )\n",
    "\n",
    "    attn_scores_ttnn = attn_scores_ttnn * (1 / (self.head_dim ** 0.5))\n",
    "\n",
    "    attn_mask_ttnn = self.mask_ttnn[:num_tokens, :num_tokens] * MINUS_INFINITY\n",
    "    attn_mask_ttnn = ttnn.reshape(attn_mask_ttnn, (1, 1, num_tokens, num_tokens))\n",
    "    attn_scores_ttnn += attn_mask_ttnn\n",
    "    \n",
    "    attn_weights_ttnn = ttnn.softmax(attn_scores_ttnn, dim=-1)\n",
    "\n",
    "    if self.dropout_prob > 0.0:\n",
    "      attn_weights_ttnn = ttnn.experimental.dropout(\n",
    "        attn_weights_ttnn,\n",
    "        seed=123,\n",
    "        probability=self.dropout_prob,\n",
    "        scale=1.0 / (1.0 - self.dropout_prob)\n",
    "      )\n",
    "\n",
    "    \n",
    "    context_vec_ttnn = ttnn.matmul(\n",
    "      attn_weights_ttnn,\n",
    "      values_ttnn,\n",
    "      core_grid=ttnn.CoreGrid(y=core_grid_y, x=core_grid_x)\n",
    "    ) \n",
    "\n",
    "    context_vec_ttnn = ttnn.permute(context_vec_ttnn, (0, 2, 1, 3))\n",
    "\n",
    "    \n",
    "    context_vec_ttnn = ttnn.reshape(context_vec_ttnn, (b, num_tokens, self.d_out))\n",
    "\n",
    "    context_vec = ttnn.from_device(context_vec_ttnn)\n",
    "    context_vec = ttnn.to_torch(context_vec)\n",
    "\n",
    "    return context_vec"
   ]
  },
  {
   "cell_type": "code",
   "execution_count": 18,
   "metadata": {},
   "outputs": [
    {
     "name": "stdout",
     "output_type": "stream",
     "text": [
      "                  Metal | INFO     | Initializing device 0. Program cache is NOT enabled\n",
      "                  Metal | INFO     | AI CLK for device 0 is:   1000 MHz\n",
      "                  Metal | INFO     | Closing device 0\n",
      "                  Metal | INFO     | Disabling and clearing program cache on device 0\n"
     ]
    },
    {
     "data": {
      "text/plain": [
       "(TorchTensor([[[-0.2969, -0.2266,  0.4570,  0.0991],\n",
       "               [-0.2139,  0.0289,  0.5586,  0.2910],\n",
       "               [-0.1914,  0.1099,  0.5898,  0.3535],\n",
       "               [-0.1533,  0.1245,  0.5156,  0.3340],\n",
       "               [-0.1572,  0.1660,  0.5117,  0.3281],\n",
       "               [-0.1309,  0.1582,  0.4824,  0.3301]],\n",
       " \n",
       "              [[-0.2969, -0.2266,  0.4570,  0.0991],\n",
       "               [-0.2139,  0.0289,  0.5586,  0.2910],\n",
       "               [-0.1914,  0.1099,  0.5898,  0.3535],\n",
       "               [-0.1533,  0.1245,  0.5156,  0.3340],\n",
       "               [-0.1572,  0.1660,  0.5117,  0.3281],\n",
       "               [-0.1309,  0.1582,  0.4824,  0.3301]]], dtype=torch.bfloat16),\n",
       " torch.Size([2, 6, 4]))"
      ]
     },
     "execution_count": 18,
     "metadata": {},
     "output_type": "execute_result"
    }
   ],
   "source": [
    "\n",
    "torch.manual_seed(123)\n",
    "\n",
    "device_id = 0\n",
    "device = ttnn.open_device(device_id=device_id)\n",
    "\n",
    "batch_size, context_length, d_in = batch.shape\n",
    "d_out =4\n",
    "mha = MultiHeadAttention_ttnn(d_in, d_out, context_length, 0.0, num_heads=2, device=device)\n",
    "\n",
    "context_vecs = mha(batch)\n",
    "\n",
    "ttnn.close_device(device)\n",
    "\n",
    "context_vecs, context_vecs.shape"
   ]
  },
  {
   "cell_type": "code",
   "execution_count": 39,
   "metadata": {},
   "outputs": [
    {
     "name": "stdout",
     "output_type": "stream",
     "text": [
      "                  Metal | INFO     | Closing device 0\n",
      "                  Metal | INFO     | Disabling and clearing program cache on device 0\n"
     ]
    }
   ],
   "source": [
    "ttnn.close_device(device)"
   ]
  },
  {
   "cell_type": "code",
   "execution_count": null,
   "metadata": {},
   "outputs": [],
   "source": []
  }
 ],
 "metadata": {
  "kernelspec": {
   "display_name": ".venv",
   "language": "python",
   "name": "python3"
  },
  "language_info": {
   "codemirror_mode": {
    "name": "ipython",
    "version": 3
   },
   "file_extension": ".py",
   "mimetype": "text/x-python",
   "name": "python",
   "nbconvert_exporter": "python",
   "pygments_lexer": "ipython3",
   "version": "3.10.11"
  }
 },
 "nbformat": 4,
 "nbformat_minor": 2
}
