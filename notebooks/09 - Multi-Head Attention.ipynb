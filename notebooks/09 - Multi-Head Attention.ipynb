{
 "cells": [
  {
   "cell_type": "markdown",
   "metadata": {},
   "source": [
    "# Multi-Head Attention\n",
    "The last part of attention. This is going to be a lot of code. Brace yourselves.\n",
    "\n",
    "![Brace yourself](./img/brace.jpg)"
   ]
  },
  {
   "cell_type": "markdown",
   "metadata": {},
   "source": [
    "This is going to be the last notebook (for a while) that involves attention. :) Again, the code here has been adapted from Sebastian Raschka's Build an LLM From Scratch book. And as usual, I start with a `torch` implementation, and move to implementing with `ttnn`.\n",
    "\n",
    "At this point, I think we are getting more and more comfortable with using `ttnn`, so the amount of detail when it comes to porting code over will be less granular."
   ]
  },
  {
   "cell_type": "markdown",
   "metadata": {},
   "source": [
    "## Import Dependent Modules\n",
    "\n",
    "Import `torch` and set the seed to `123` for consistency."
   ]
  },
  {
   "cell_type": "code",
   "execution_count": 46,
   "metadata": {},
   "outputs": [
    {
     "data": {
      "text/plain": [
       "<torch._C.Generator at 0x7a39fd7b7990>"
      ]
     },
     "execution_count": 46,
     "metadata": {},
     "output_type": "execute_result"
    }
   ],
   "source": [
    "import torch\n",
    "from torch import nn\n",
    "\n",
    "torch.manual_seed(123)"
   ]
  },
  {
   "cell_type": "markdown",
   "metadata": {},
   "source": [
    "We will also need some sample inputs. We'll bring back the `context` found in the previous notebook involving causal attention.\n",
    "\n",
    "Our inputs have to also be transformed into a single batch of 2. So actually we have a dimension of (2, 6, 3) for our inputs. (We get the second input by just doing a stack -- resulting in repetition)\n",
    "\n",
    "Note that for the assignment for `d_out`, we will be sticking to the book by making it 1 less than `d_in` to just check answers."
   ]
  },
  {
   "cell_type": "code",
   "execution_count": 47,
   "metadata": {},
   "outputs": [
    {
     "name": "stdout",
     "output_type": "stream",
     "text": [
      "torch.Size([2, 6, 3])\n"
     ]
    },
    {
     "data": {
      "text/plain": [
       "(3, 2)"
      ]
     },
     "execution_count": 47,
     "metadata": {},
     "output_type": "execute_result"
    }
   ],
   "source": [
    "context = torch.tensor(\n",
    "  [[0.43, 0.15, 0.89], # Your     (x^1)\n",
    "   [0.55, 0.87, 0.66], # journey  (x^2)\n",
    "   [0.57, 0.85, 0.64], # starts   (x^3)\n",
    "   [0.22, 0.58, 0.33], # with     (x^4)\n",
    "   [0.77, 0.25, 0.10], # one      (x^5)\n",
    "   [0.05, 0.80, 0.55]] # step     (x^6)\n",
    ")\n",
    "\n",
    "batch = torch.stack((context, context), dim=0)\n",
    "print(batch.shape)\n",
    "\n",
    "d = context.shape\n",
    "d_in = context.shape[1]\n",
    "d_out = context.shape[1] - 1\n",
    "\n",
    "d_in, d_out"
   ]
  },
  {
   "cell_type": "markdown",
   "metadata": {},
   "source": [
    "## Define CausalAttention\n",
    "\n",
    "We'll bring back the `CausalAttention` class here to demonstrate that at the most basic level, a `MultiHeadAttention` is just a stack of `CausalAttention` instances. \n",
    "\n",
    "When we perform a forward pass through a `MultiheadAttention` module, we are just iterating through each `CausalAttention` instance and feeding the inputs through one after another."
   ]
  },
  {
   "cell_type": "code",
   "execution_count": 48,
   "metadata": {},
   "outputs": [],
   "source": [
    "\n",
    "class CausalAttention(nn.Module):\n",
    "  def __init__(self, d_in, d_out, context_length, dropout, qkv_bias=False):\n",
    "    super().__init__()\n",
    "\n",
    "    self.d_out = d_out\n",
    "    \n",
    "    self.W_query = nn.Linear(d_in, d_out, bias=qkv_bias)\n",
    "    self.W_key = nn.Linear(d_in, d_out, bias=qkv_bias)\n",
    "    self.W_value = nn.Linear(d_in, d_out, bias=qkv_bias)\n",
    "    \n",
    "    self.dropout = nn.Dropout(dropout)\n",
    "\n",
    "    self.mask = torch.triu(\n",
    "      torch.ones(context_length, context_length),\n",
    "      diagonal=1\n",
    "    )\n",
    "\n",
    "  def forward(self, x): \n",
    "    b, num_tokens, d_in = x.shape\n",
    "    keys = self.W_query(x)\n",
    "    queries = self.W_query(x)\n",
    "    values = self.W_value(x)\n",
    "\n",
    "    # transpose the last 2 dimensions while leaving the batch dimension alone.\n",
    "    attn_scores = queries @ keys.transpose(1, 2)\n",
    "    attn_scores.masked_fill(\n",
    "      self.mask.bool()[:num_tokens, :num_tokens], -torch.inf\n",
    "    )\n",
    "    attn_weights = torch.softmax(\n",
    "      attn_scores / keys.shape[-1]**0.5, dim=-1\n",
    "    )\n",
    "\n",
    "    attn_weights = self.dropout(attn_weights)\n",
    "\n",
    "    context_vec = attn_weights @ values\n",
    "\n",
    "    return context_vec\n"
   ]
  },
  {
   "cell_type": "markdown",
   "metadata": {},
   "source": [
    "Let's test `CausalAttention` by passing in the batch."
   ]
  },
  {
   "cell_type": "code",
   "execution_count": 49,
   "metadata": {},
   "outputs": [
    {
     "data": {
      "text/plain": [
       "tensor([[[-0.5287, -0.0976],\n",
       "         [-0.5293, -0.1053],\n",
       "         [-0.5293, -0.1052],\n",
       "         [-0.5287, -0.1072],\n",
       "         [-0.5287, -0.1038],\n",
       "         [-0.5288, -0.1080]],\n",
       "\n",
       "        [[-0.5287, -0.0976],\n",
       "         [-0.5293, -0.1053],\n",
       "         [-0.5293, -0.1052],\n",
       "         [-0.5287, -0.1072],\n",
       "         [-0.5287, -0.1038],\n",
       "         [-0.5288, -0.1080]]], grad_fn=<UnsafeViewBackward0>)"
      ]
     },
     "execution_count": 49,
     "metadata": {},
     "output_type": "execute_result"
    }
   ],
   "source": [
    "torch.manual_seed(123)\n",
    "context_length = batch.shape[1]\n",
    "ca = CausalAttention(d_in, d_out, context_length, 0.0)\n",
    "ca(batch)\n"
   ]
  },
  {
   "cell_type": "markdown",
   "metadata": {},
   "source": [
    "## MultiHeadAttention With Wrapped CausalAttention\n",
    "\n",
    "`torch.cat` is used to concatenate the outputs of each head along the last dimension.\n",
    "\n",
    "The number of interest is the the `num_heads` argument to the `MultiHeadAttentionWrapper` constructor. This will tell us how many `CausalAttention` instances we must initialize. \n",
    "\n",
    "When performing the forward pass, we'll perform the operation and concatenate the results of a `CausalAttention` instance for each head given the batch input.\n",
    "\n",
    "So if we initially have a 3x2 tensor, with 2 heads we will get 3x4. With 3 heads, it will become 3x6, etc."
   ]
  },
  {
   "cell_type": "code",
   "execution_count": 50,
   "metadata": {},
   "outputs": [],
   "source": [
    "class MultiHeadAttentionWrapper(nn.Module):\n",
    "  def __init__(self, d_in, d_out, context_length, dropout, num_heads, qkv_bias=False):\n",
    "    super().__init__()\n",
    "\n",
    "    self.heads = nn.ModuleList(\n",
    "      [\n",
    "        CausalAttention(d_in, d_out, context_length, dropout, qkv_bias) \n",
    "        for _ in range(num_heads)\n",
    "      ]\n",
    "    )\n",
    "\n",
    "  def forward(self, x):\n",
    "    return torch.cat([head(x) for head in self.heads], dim=-1)\n",
    "\n"
   ]
  },
  {
   "cell_type": "markdown",
   "metadata": {},
   "source": [
    "Let's test. For good safety measure, set the seed to 123 again."
   ]
  },
  {
   "cell_type": "code",
   "execution_count": 51,
   "metadata": {},
   "outputs": [
    {
     "data": {
      "text/plain": [
       "(tensor([[[-0.5287, -0.0976,  0.5122,  0.3448],\n",
       "          [-0.5293, -0.1053,  0.5123,  0.3449],\n",
       "          [-0.5293, -0.1052,  0.5121,  0.3448],\n",
       "          [-0.5287, -0.1072,  0.5096,  0.3438],\n",
       "          [-0.5287, -0.1038,  0.5078,  0.3427],\n",
       "          [-0.5288, -0.1080,  0.5113,  0.3446]],\n",
       " \n",
       "         [[-0.5287, -0.0976,  0.5122,  0.3448],\n",
       "          [-0.5293, -0.1053,  0.5123,  0.3449],\n",
       "          [-0.5293, -0.1052,  0.5121,  0.3448],\n",
       "          [-0.5287, -0.1072,  0.5096,  0.3438],\n",
       "          [-0.5287, -0.1038,  0.5078,  0.3427],\n",
       "          [-0.5288, -0.1080,  0.5113,  0.3446]]], grad_fn=<CatBackward0>),\n",
       " torch.Size([2, 6, 4]))"
      ]
     },
     "execution_count": 51,
     "metadata": {},
     "output_type": "execute_result"
    }
   ],
   "source": [
    "torch.manual_seed(123)\n",
    "context_length = batch.shape[1]\n",
    "mha = MultiHeadAttentionWrapper(d_in, d_out, context_length, 0.0, num_heads=2)\n",
    "context_vecs = mha(batch)\n",
    "context_vecs, context_vecs.shape"
   ]
  },
  {
   "cell_type": "markdown",
   "metadata": {},
   "source": [
    "## MultiHeadAttention in Torch Optimized\n",
    "\n",
    "Now, as stated in the book, we can perform a more optimized forward operation on the batch in one go. This means that we're not using our `CausalAttention` class anymore. In fact, we will build those operations into the forward method. \n",
    "\n",
    "If you read the code, you will notice that the code is very similar to `CausalAttention`.\n",
    "\n",
    "`view` is used to reshape the dimensions with the provided."
   ]
  },
  {
   "cell_type": "code",
   "execution_count": 52,
   "metadata": {},
   "outputs": [],
   "source": [
    "class MultiHeadAttention(nn.Module):\n",
    "  def __init__(self, d_in, d_out, context_length, dropout, num_heads, qkv_bias=False):\n",
    "    super().__init__()\n",
    "\n",
    "    self.d_out = d_out\n",
    "    self.num_heads = num_heads\n",
    "    self.head_dim = d_out // num_heads # Reduce the projection dimension to match the output dim\n",
    "\n",
    "    self.W_query = nn.Linear(d_in, d_out, bias=qkv_bias)\n",
    "    self.W_key = nn.Linear(d_in, d_out, bias=qkv_bias)\n",
    "    self.W_value = nn.Linear(d_in, d_out, bias=qkv_bias)\n",
    "\n",
    "    self.out_proj = nn.Linear(d_out, d_out)\n",
    "    self.dropout = nn.Dropout(dropout)\n",
    "\n",
    "    self.mask = torch.triu(\n",
    "      torch.ones(context_length, context_length),\n",
    "      diagonal=1\n",
    "    )\n",
    "\n",
    "  def forward(self, x):\n",
    "    b, num_tokens, d_in = x.shape\n",
    "\n",
    "    keys = self.W_key(x)\n",
    "    queries = self.W_query(x)\n",
    "    values = self.W_value(x)\n",
    "\n",
    "    keys = keys.view(\n",
    "      b,\n",
    "      num_tokens,\n",
    "      self.num_heads,\n",
    "      self.head_dim\n",
    "    )\n",
    "    values = values.view(\n",
    "      b,\n",
    "      num_tokens,\n",
    "      self.num_heads,\n",
    "      self.head_dim\n",
    "    )\n",
    "    queries = queries.view(\n",
    "      b,\n",
    "      num_tokens,\n",
    "      self.num_heads,\n",
    "      self.head_dim\n",
    "    )\n",
    "    \n",
    "    keys = keys.transpose(1, 2)\n",
    "    queries = queries.transpose(1, 2)\n",
    "    values = values.transpose(1, 2)\n",
    "    \n",
    "    attn_scores = queries @ keys.transpose(2, 3)\n",
    "    mask_bool = self.mask.bool()[:num_tokens, :num_tokens]\n",
    "\n",
    "    attn_scores.masked_fill_(mask_bool, -torch.inf)\n",
    "\n",
    "    attn_weights = torch.softmax(attn_scores / keys.shape[-1] ** 0.5, dim=-1)\n",
    "    attn_weights = self.dropout(attn_weights)\n",
    "\n",
    "    context_vec = torch.transpose((attn_weights @ values), 1, 2)\n",
    "    context_vec = context_vec.contiguous().view(\n",
    "      b,\n",
    "      num_tokens,\n",
    "      self.d_out\n",
    "    )\n",
    "\n",
    "    context_vec = self.out_proj(context_vec)\n",
    "\n",
    "    return context_vec"
   ]
  },
  {
   "cell_type": "markdown",
   "metadata": {},
   "source": [
    "We will initialize the `MultiHeadAttention` class to have `num_heads` to be `2`. At this point we should be pretty close to the result that we want assuming that we make sure our seed is `123` :) "
   ]
  },
  {
   "cell_type": "code",
   "execution_count": 53,
   "metadata": {},
   "outputs": [
    {
     "data": {
      "text/plain": [
       "(tensor([[[0.3190, 0.4858],\n",
       "          [0.2943, 0.3897],\n",
       "          [0.2856, 0.3593],\n",
       "          [0.2693, 0.3873],\n",
       "          [0.2639, 0.3928],\n",
       "          [0.2575, 0.4028]],\n",
       " \n",
       "         [[0.3190, 0.4858],\n",
       "          [0.2943, 0.3897],\n",
       "          [0.2856, 0.3593],\n",
       "          [0.2693, 0.3873],\n",
       "          [0.2639, 0.3928],\n",
       "          [0.2575, 0.4028]]], grad_fn=<ViewBackward0>),\n",
       " torch.Size([2, 6, 2]))"
      ]
     },
     "execution_count": 53,
     "metadata": {},
     "output_type": "execute_result"
    }
   ],
   "source": [
    "torch.manual_seed(123)\n",
    "\n",
    "batch_size, context_length, d_in = batch.shape\n",
    "d_out = 2 \n",
    "mha = MultiHeadAttention(d_in, d_out, context_length, 0.0, num_heads=2)\n",
    "\n",
    "context_vecs = mha(batch)\n",
    "\n",
    "context_vecs, context_vecs.shape\n"
   ]
  },
  {
   "cell_type": "markdown",
   "metadata": {},
   "source": [
    "Save the result so that we can compare later."
   ]
  },
  {
   "cell_type": "code",
   "execution_count": 54,
   "metadata": {},
   "outputs": [
    {
     "data": {
      "text/plain": [
       "tensor([[[0.3190, 0.4858],\n",
       "         [0.2943, 0.3897],\n",
       "         [0.2856, 0.3593],\n",
       "         [0.2693, 0.3873],\n",
       "         [0.2639, 0.3928],\n",
       "         [0.2575, 0.4028]],\n",
       "\n",
       "        [[0.3190, 0.4858],\n",
       "         [0.2943, 0.3897],\n",
       "         [0.2856, 0.3593],\n",
       "         [0.2693, 0.3873],\n",
       "         [0.2639, 0.3928],\n",
       "         [0.2575, 0.4028]]], grad_fn=<ViewBackward0>)"
      ]
     },
     "execution_count": 54,
     "metadata": {},
     "output_type": "execute_result"
    }
   ],
   "source": [
    "context_vecs_torch = context_vecs\n",
    "context_vecs_torch"
   ]
  },
  {
   "cell_type": "markdown",
   "metadata": {},
   "source": [
    "## TTNN Example"
   ]
  },
  {
   "cell_type": "code",
   "execution_count": 55,
   "metadata": {},
   "outputs": [
    {
     "data": {
      "text/plain": [
       "<torch._C.Generator at 0x7a39fd7b7990>"
      ]
     },
     "execution_count": 55,
     "metadata": {},
     "output_type": "execute_result"
    }
   ],
   "source": [
    "import ttnn\n",
    "\n",
    "torch.manual_seed(123)"
   ]
  },
  {
   "cell_type": "code",
   "execution_count": 56,
   "metadata": {},
   "outputs": [],
   "source": [
    "core_grid_y = 8\n",
    "core_grid_x = 8\n",
    "\n",
    "MINUS_INFINITY=-1e9"
   ]
  },
  {
   "cell_type": "code",
   "execution_count": 57,
   "metadata": {},
   "outputs": [],
   "source": [
    "class MultiHeadAttention_ttnn(nn.Module):\n",
    "  def __init__(self, d_in, d_out, context_length, dropout, num_heads, device, qkv_bias=False):\n",
    "    super().__init__()\n",
    "\n",
    "    self.device = device\n",
    "    self.dropout_prob = dropout\n",
    "\n",
    "    self.d_out = d_out\n",
    "    self.num_heads = num_heads\n",
    "    self.head_dim = d_out // num_heads # Reduce the projection dimension to match the output dim\n",
    "\n",
    "    self.W_query = nn.Linear(d_in, d_out, bias=qkv_bias)\n",
    "    self.W_key = nn.Linear(d_in, d_out, bias=qkv_bias)\n",
    "    self.W_value = nn.Linear(d_in, d_out, bias=qkv_bias)\n",
    "    self.out_proj = nn.Linear(d_out, d_out)\n",
    "    self.dropout = nn.Dropout(dropout)\n",
    "    self.mask = torch.triu(torch.ones(context_length, context_length), diagonal=1)\n",
    "\n",
    "    self.W_query_ttnn = ttnn.from_torch(\n",
    "      self.W_query.weight,\n",
    "      dtype=ttnn.bfloat16,\n",
    "      layout=ttnn.TILE_LAYOUT,\n",
    "      device=self.device,\n",
    "      memory_config=ttnn.L1_MEMORY_CONFIG\n",
    "    )\n",
    "    self.W_key_ttnn = ttnn.from_torch(\n",
    "      self.W_key.weight,\n",
    "      dtype=ttnn.bfloat16,\n",
    "      layout=ttnn.TILE_LAYOUT,\n",
    "      device=self.device,\n",
    "      memory_config=ttnn.L1_MEMORY_CONFIG\n",
    "    )\n",
    "    self.W_value_ttnn = ttnn.from_torch(\n",
    "      self.W_value.weight,\n",
    "      dtype=ttnn.bfloat16,\n",
    "      layout=ttnn.TILE_LAYOUT,\n",
    "      device=self.device,\n",
    "      memory_config=ttnn.L1_MEMORY_CONFIG\n",
    "    )\n",
    "    self.out_proj_ttnn = ttnn.from_torch(\n",
    "      self.out_proj.weight,\n",
    "      dtype=ttnn.bfloat16,\n",
    "      layout=ttnn.TILE_LAYOUT,\n",
    "      device=self.device,\n",
    "      memory_config=ttnn.L1_MEMORY_CONFIG\n",
    "    )\n",
    "    self.mask_ttnn = ttnn.from_torch(\n",
    "      self.mask,\n",
    "      dtype=ttnn.bfloat16,\n",
    "      layout=ttnn.TILE_LAYOUT,\n",
    "      device=self.device,\n",
    "      memory_config=ttnn.L1_MEMORY_CONFIG\n",
    "    )\n",
    "\n",
    "  def forward(self, x):\n",
    "    b, num_tokens, d_in = x.shape\n",
    "\n",
    "    x_ttnn = ttnn.from_torch(\n",
    "      x,\n",
    "      dtype=ttnn.bfloat16,\n",
    "      layout=ttnn.TILE_LAYOUT,\n",
    "      device=self.device\n",
    "    )\n",
    "\n",
    "    keys_ttnn = ttnn.linear(\n",
    "      x_ttnn,\n",
    "      self.W_key_ttnn,\n",
    "      transpose_b=True,\n",
    "      core_grid=ttnn.CoreGrid(y=core_grid_y, x=core_grid_x)\n",
    "    )\n",
    "    queries_ttnn = ttnn.linear(\n",
    "      x_ttnn,\n",
    "      self.W_query_ttnn,\n",
    "      transpose_b=True,\n",
    "      core_grid=ttnn.CoreGrid(y=core_grid_y, x=core_grid_x)\n",
    "    )\n",
    "    values_ttnn = ttnn.linear(\n",
    "      x_ttnn,\n",
    "      self.W_value_ttnn,\n",
    "      transpose_b=True,\n",
    "      core_grid=ttnn.CoreGrid(y=core_grid_y, x=core_grid_x)\n",
    "    )\n",
    "    \n",
    "    keys_ttnn = ttnn.reshape(keys_ttnn, (b, num_tokens, self.num_heads, self.head_dim))\n",
    "    values_ttnn = ttnn.reshape(values_ttnn, (b, num_tokens, self.num_heads, self.head_dim))\n",
    "    queries_ttnn = ttnn.reshape(queries_ttnn, (b, num_tokens, self.num_heads, self.head_dim))\n",
    "\n",
    "    # NOTE! This is intentional. We want the transposed version of keys_ttnn. That's why the\n",
    "    # shape has a different permutation than the values_ttnn and queries_ttnn!\n",
    "    keys_transposed_ttnn = ttnn.permute(keys_ttnn, (0, 2, 3, 1))\n",
    "    values_ttnn = ttnn.permute(values_ttnn, (0, 2, 1, 3))\n",
    "    queries_ttnn = ttnn.permute(queries_ttnn, (0, 2, 1, 3))\n",
    "\n",
    "    attn_scores_ttnn = ttnn.matmul(\n",
    "      queries_ttnn, \n",
    "      keys_transposed_ttnn,\n",
    "      core_grid=ttnn.CoreGrid(y=core_grid_y, x=core_grid_x)\n",
    "    )\n",
    "\n",
    "    attn_scores_ttnn = attn_scores_ttnn * (1 / (self.head_dim ** 0.5))\n",
    "\n",
    "    attn_mask_ttnn = self.mask_ttnn[:num_tokens, :num_tokens] * MINUS_INFINITY\n",
    "    attn_mask_ttnn = ttnn.reshape(attn_mask_ttnn, (1, 1, num_tokens, num_tokens))\n",
    "    attn_scores_ttnn += attn_mask_ttnn\n",
    "    \n",
    "    attn_weights_ttnn = ttnn.softmax(attn_scores_ttnn, dim=-1)\n",
    "\n",
    "    if self.dropout_prob > 0.0:\n",
    "      attn_weights_ttnn = ttnn.experimental.dropout(\n",
    "        attn_weights_ttnn,\n",
    "        seed=123,\n",
    "        probability=self.dropout_prob,\n",
    "        scale=1.0 / (1.0 - self.dropout_prob)\n",
    "      )\n",
    "\n",
    "    \n",
    "    context_vec_ttnn = ttnn.matmul(\n",
    "      attn_weights_ttnn,\n",
    "      values_ttnn,\n",
    "      core_grid=ttnn.CoreGrid(y=core_grid_y, x=core_grid_x)\n",
    "    ) \n",
    "\n",
    "    context_vec_ttnn = ttnn.permute(context_vec_ttnn, (0, 2, 1, 3))\n",
    "    context_vec_ttnn = ttnn.reshape(context_vec_ttnn, (b, num_tokens, self.d_out))\n",
    "\n",
    "    out_proj_bias_ttnn = ttnn.from_torch(\n",
    "      self.out_proj.bias,\n",
    "      dtype=ttnn.bfloat16,\n",
    "      layout=ttnn.TILE_LAYOUT,\n",
    "      device=self.device\n",
    "    )\n",
    "\n",
    "    context_vec_ttnn = ttnn.linear(\n",
    "      context_vec_ttnn,\n",
    "      self.out_proj_ttnn,\n",
    "      transpose_b=True,\n",
    "      core_grid=ttnn.CoreGrid(y=core_grid_y, x=core_grid_x)\n",
    "    )\n",
    "    context_vec_ttnn = ttnn.add(context_vec_ttnn, out_proj_bias_ttnn)\n",
    "\n",
    "    # Send the context vector back to the CPU\n",
    "    context_vec = ttnn.from_device(context_vec_ttnn)\n",
    "    context_vec = ttnn.to_torch(context_vec)\n",
    "\n",
    "    return context_vec"
   ]
  },
  {
   "cell_type": "markdown",
   "metadata": {},
   "source": [
    "Let's test. We should be getting a similar result."
   ]
  },
  {
   "cell_type": "code",
   "execution_count": 58,
   "metadata": {},
   "outputs": [
    {
     "name": "stdout",
     "output_type": "stream",
     "text": [
      "                  Metal | INFO     | Initializing device 0. Program cache is NOT enabled\n",
      "                  Metal | INFO     | AI CLK for device 0 is:   1000 MHz\n",
      "                  Metal | INFO     | Closing device 0\n",
      "                  Metal | INFO     | Disabling and clearing program cache on device 0\n"
     ]
    },
    {
     "data": {
      "text/plain": [
       "(TorchTensor([[[0.3145, 0.4922],\n",
       "               [0.2891, 0.4043],\n",
       "               [0.2773, 0.3828],\n",
       "               [0.2656, 0.4004],\n",
       "               [0.2598, 0.4062],\n",
       "               [0.2520, 0.4199]],\n",
       " \n",
       "              [[0.3145, 0.4922],\n",
       "               [0.2891, 0.4043],\n",
       "               [0.2773, 0.3828],\n",
       "               [0.2656, 0.4004],\n",
       "               [0.2598, 0.4062],\n",
       "               [0.2520, 0.4199]]], dtype=torch.bfloat16),\n",
       " torch.Size([2, 6, 2]))"
      ]
     },
     "execution_count": 58,
     "metadata": {},
     "output_type": "execute_result"
    }
   ],
   "source": [
    "\n",
    "torch.manual_seed(123)\n",
    "\n",
    "device_id = 0\n",
    "device = ttnn.open_device(device_id=device_id)\n",
    "\n",
    "batch_size, context_length, d_in = batch.shape\n",
    "d_out = 2\n",
    "mha = MultiHeadAttention_ttnn(d_in, d_out, context_length, 0.0, num_heads=2, device=device)\n",
    "\n",
    "context_vecs = mha(batch)\n",
    "\n",
    "ttnn.close_device(device)\n",
    "\n",
    "context_vecs, context_vecs.shape"
   ]
  },
  {
   "cell_type": "code",
   "execution_count": 59,
   "metadata": {},
   "outputs": [
    {
     "data": {
      "text/plain": [
       "TorchTensor([[[0.3145, 0.4922],\n",
       "              [0.2891, 0.4043],\n",
       "              [0.2773, 0.3828],\n",
       "              [0.2656, 0.4004],\n",
       "              [0.2598, 0.4062],\n",
       "              [0.2520, 0.4199]],\n",
       "\n",
       "             [[0.3145, 0.4922],\n",
       "              [0.2891, 0.4043],\n",
       "              [0.2773, 0.3828],\n",
       "              [0.2656, 0.4004],\n",
       "              [0.2598, 0.4062],\n",
       "              [0.2520, 0.4199]]], dtype=torch.bfloat16)"
      ]
     },
     "execution_count": 59,
     "metadata": {},
     "output_type": "execute_result"
    }
   ],
   "source": [
    "context_vecs_ttnn = context_vecs\n",
    "context_vecs_ttnn"
   ]
  },
  {
   "cell_type": "markdown",
   "metadata": {},
   "source": [
    "## Results Comparison\n",
    "Let's compare our results so that we can see whether or not the `ttnn` results compares well with the `torch` comparison. \n",
    "\n",
    "It is expected that the numbers are slightly different, but we are expecting this and willing to accept some level of tolerance."
   ]
  },
  {
   "cell_type": "code",
   "execution_count": 60,
   "metadata": {},
   "outputs": [
    {
     "name": "stdout",
     "output_type": "stream",
     "text": [
      "=== Tensor Comparison ===\n",
      "Shapes: PyTorch torch.Size([2, 6, 2]), TTNN torch.Size([2, 6, 2])\n",
      "Data types: PyTorch torch.bfloat16, TTNN torch.bfloat16\n",
      "\n",
      "Tolerance Checks:\n",
      "  Max Absolute Diff: 0.023438 (Tolerance: 0.025000) ✅ PASS\n",
      "  Mean Absolute Diff: 0.009949 (Tolerance: 0.020000) ✅ PASS\n",
      "  Correlation: 0.996094 (Tolerance: 0.990000) ✅ PASS\n",
      "\n",
      "Overall Status: ✅ PASS\n",
      "\n",
      "Sample Value Comparisons (first 3 positions):\n",
      "  Position [0,0,0]: PyTorch=0.318359, TTNN=0.314453, Diff=0.003906 ✅\n",
      "  Position [0,0,1]: PyTorch=0.486328, TTNN=0.492188, Diff=0.005859 ✅\n",
      "  Position [0,1,0]: PyTorch=0.294922, TTNN=0.289062, Diff=0.005859 ✅\n",
      "  Position [0,1,1]: PyTorch=0.390625, TTNN=0.404297, Diff=0.013672 ✅\n",
      "  Position [0,2,0]: PyTorch=0.285156, TTNN=0.277344, Diff=0.007812 ✅\n",
      "  Position [0,2,1]: PyTorch=0.359375, TTNN=0.382812, Diff=0.023438 ✅\n",
      "  Position [1,0,0]: PyTorch=0.318359, TTNN=0.314453, Diff=0.003906 ✅\n",
      "  Position [1,0,1]: PyTorch=0.486328, TTNN=0.492188, Diff=0.005859 ✅\n",
      "  Position [1,1,0]: PyTorch=0.294922, TTNN=0.289062, Diff=0.005859 ✅\n",
      "  Position [1,1,1]: PyTorch=0.390625, TTNN=0.404297, Diff=0.013672 ✅\n",
      "  Position [1,2,0]: PyTorch=0.285156, TTNN=0.277344, Diff=0.007812 ✅\n",
      "  Position [1,2,1]: PyTorch=0.359375, TTNN=0.382812, Diff=0.023438 ✅\n"
     ]
    }
   ],
   "source": [
    "from scripts.compare_tensors import compare_tensors\n",
    "\n",
    "torch_output = context_vecs_torch   \n",
    "ttnn_output = context_vecs_ttnn    \n",
    "\n",
    "results = compare_tensors(\n",
    "    torch_output,\n",
    "    ttnn_output,\n",
    "    max_diff_tolerance=0.025\n",
    ")"
   ]
  },
  {
   "cell_type": "code",
   "execution_count": null,
   "metadata": {},
   "outputs": [],
   "source": []
  }
 ],
 "metadata": {
  "kernelspec": {
   "display_name": ".venv",
   "language": "python",
   "name": "python3"
  },
  "language_info": {
   "codemirror_mode": {
    "name": "ipython",
    "version": 3
   },
   "file_extension": ".py",
   "mimetype": "text/x-python",
   "name": "python",
   "nbconvert_exporter": "python",
   "pygments_lexer": "ipython3",
   "version": "3.10.11"
  }
 },
 "nbformat": 4,
 "nbformat_minor": 2
}
