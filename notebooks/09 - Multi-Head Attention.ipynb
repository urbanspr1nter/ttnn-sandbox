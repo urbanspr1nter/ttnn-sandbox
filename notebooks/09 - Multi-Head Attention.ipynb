{
 "cells": [
  {
   "cell_type": "code",
   "execution_count": 1,
   "metadata": {},
   "outputs": [
    {
     "data": {
      "text/plain": [
       "<torch._C.Generator at 0x71c027b2ea70>"
      ]
     },
     "execution_count": 1,
     "metadata": {},
     "output_type": "execute_result"
    }
   ],
   "source": [
    "import torch\n",
    "#import ttnn\n",
    "from torch import nn\n",
    "\n",
    "torch.manual_seed(123)"
   ]
  },
  {
   "cell_type": "code",
   "execution_count": 2,
   "metadata": {},
   "outputs": [
    {
     "data": {
      "text/plain": [
       "(3, 2)"
      ]
     },
     "execution_count": 2,
     "metadata": {},
     "output_type": "execute_result"
    }
   ],
   "source": [
    "context = torch.tensor(\n",
    "  [[0.43, 0.15, 0.89], # Your     (x^1)\n",
    "   [0.55, 0.87, 0.66], # journey  (x^2)\n",
    "   [0.57, 0.85, 0.64], # starts   (x^3)\n",
    "   [0.22, 0.58, 0.33], # with     (x^4)\n",
    "   [0.77, 0.25, 0.10], # one      (x^5)\n",
    "   [0.05, 0.80, 0.55]] # step     (x^6)\n",
    ")\n",
    "\n",
    "batch = torch.stack((context, context), dim=0)\n",
    "d = context.shape\n",
    "d_in = context.shape[1]\n",
    "d_out = context.shape[1] - 1\n",
    "\n",
    "d_in, d_out"
   ]
  },
  {
   "cell_type": "code",
   "execution_count": 3,
   "metadata": {},
   "outputs": [],
   "source": [
    "\n",
    "class CausalAttention(nn.Module):\n",
    "  def __init__(self, d_in, d_out, context_length, dropout, qkv_bias=False):\n",
    "    super().__init__()\n",
    "\n",
    "    self.d_out = d_out\n",
    "    \n",
    "    self.W_query = nn.Linear(d_in, d_out, bias=qkv_bias)\n",
    "    self.W_key = nn.Linear(d_in, d_out, bias=qkv_bias)\n",
    "    self.W_value = nn.Linear(d_in, d_out, bias=qkv_bias)\n",
    "    \n",
    "    self.dropout = nn.Dropout(dropout)\n",
    "\n",
    "    self.mask = torch.triu(\n",
    "      torch.ones(context_length, context_length),\n",
    "      diagonal=1\n",
    "    )\n",
    "\n",
    "  def forward(self, x): \n",
    "    b, num_tokens, d_in = x.shape\n",
    "    keys = self.W_query(x)\n",
    "    queries = self.W_query(x)\n",
    "    values = self.W_value(x)\n",
    "\n",
    "    # transpose the last 2 dimensions while leaving the batch dimension alone.\n",
    "    attn_scores = queries @ keys.transpose(1, 2)\n",
    "    attn_scores.masked_fill(\n",
    "      self.mask.bool()[:num_tokens, :num_tokens], -torch.inf\n",
    "    )\n",
    "    attn_weights = torch.softmax(\n",
    "      attn_scores / keys.shape[-1]**0.5, dim=-1\n",
    "    )\n",
    "\n",
    "    attn_weights = self.dropout(attn_weights)\n",
    "\n",
    "    context_vec = attn_weights @ values\n",
    "\n",
    "    return context_vec\n"
   ]
  },
  {
   "cell_type": "code",
   "execution_count": 4,
   "metadata": {},
   "outputs": [
    {
     "data": {
      "text/plain": [
       "tensor([[[-0.5287, -0.0976],\n",
       "         [-0.5293, -0.1053],\n",
       "         [-0.5293, -0.1052],\n",
       "         [-0.5287, -0.1072],\n",
       "         [-0.5287, -0.1038],\n",
       "         [-0.5288, -0.1080]],\n",
       "\n",
       "        [[-0.5287, -0.0976],\n",
       "         [-0.5293, -0.1053],\n",
       "         [-0.5293, -0.1052],\n",
       "         [-0.5287, -0.1072],\n",
       "         [-0.5287, -0.1038],\n",
       "         [-0.5288, -0.1080]]], grad_fn=<UnsafeViewBackward0>)"
      ]
     },
     "execution_count": 4,
     "metadata": {},
     "output_type": "execute_result"
    }
   ],
   "source": [
    "torch.manual_seed(123)\n",
    "context_length = batch.shape[1]\n",
    "ca = CausalAttention(d_in, d_out, context_length, 0.0)\n",
    "ca(batch)\n"
   ]
  },
  {
   "cell_type": "code",
   "execution_count": 5,
   "metadata": {},
   "outputs": [],
   "source": [
    "class MultiHeadAttentionWrapper(nn.Module):\n",
    "  def __init__(self, d_in, d_out, context_length, dropout, num_heads, qkv_bias=False):\n",
    "    super().__init__()\n",
    "\n",
    "    self.heads = nn.ModuleList(\n",
    "      [\n",
    "        CausalAttention(d_in, d_out, context_length, dropout, qkv_bias) \n",
    "        for _ in range(num_heads)\n",
    "      ]\n",
    "    )\n",
    "\n",
    "  def forward(self, x):\n",
    "    return torch.cat([head(x) for head in self.heads], dim=-1)\n",
    "\n"
   ]
  },
  {
   "cell_type": "code",
   "execution_count": 6,
   "metadata": {},
   "outputs": [
    {
     "data": {
      "text/plain": [
       "(tensor([[[-0.5287, -0.0976,  0.5122,  0.3448],\n",
       "          [-0.5293, -0.1053,  0.5123,  0.3449],\n",
       "          [-0.5293, -0.1052,  0.5121,  0.3448],\n",
       "          [-0.5287, -0.1072,  0.5096,  0.3438],\n",
       "          [-0.5287, -0.1038,  0.5078,  0.3427],\n",
       "          [-0.5288, -0.1080,  0.5113,  0.3446]],\n",
       " \n",
       "         [[-0.5287, -0.0976,  0.5122,  0.3448],\n",
       "          [-0.5293, -0.1053,  0.5123,  0.3449],\n",
       "          [-0.5293, -0.1052,  0.5121,  0.3448],\n",
       "          [-0.5287, -0.1072,  0.5096,  0.3438],\n",
       "          [-0.5287, -0.1038,  0.5078,  0.3427],\n",
       "          [-0.5288, -0.1080,  0.5113,  0.3446]]], grad_fn=<CatBackward0>),\n",
       " torch.Size([2, 6, 4]))"
      ]
     },
     "execution_count": 6,
     "metadata": {},
     "output_type": "execute_result"
    }
   ],
   "source": [
    "torch.manual_seed(123)\n",
    "context_length = batch.shape[1]\n",
    "mha = MultiHeadAttentionWrapper(d_in, d_out, context_length, 0.0, num_heads=2)\n",
    "context_vecs = mha(batch)\n",
    "context_vecs, context_vecs.shape"
   ]
  },
  {
   "cell_type": "code",
   "execution_count": 15,
   "metadata": {},
   "outputs": [],
   "source": [
    "class MultiHeadAttention(nn.Module):\n",
    "  def __init__(self, d_in, d_out, context_length, dropout, num_heads, qkv_bias=False):\n",
    "    super().__init__()\n",
    "\n",
    "    self.d_out = d_out\n",
    "    self.num_heads = num_heads\n",
    "    self.head_dim = d_out // num_heads # Reduce the projection dimension to match the output dim\n",
    "\n",
    "    self.W_query = nn.Linear(d_in, d_out, bias=qkv_bias)\n",
    "    self.W_key = nn.Linear(d_in, d_out, bias=qkv_bias)\n",
    "    self.W_value = nn.Linear(d_in, d_out, bias=qkv_bias)\n",
    "    self.out_proj = nn.Linear(d_out, d_out) # linear layer to combine head outputs\n",
    "    self.dropout = nn.Dropout(dropout)\n",
    "\n",
    "    self.mask = torch.triu(torch.ones(context_length, context_length), diagonal=1)\n",
    "\n",
    "  def forward(self, x):\n",
    "    b, num_tokens, d_in = x.shape\n",
    "\n",
    "    keys = self.W_key(x)\n",
    "    queries = self.W_query(x)\n",
    "    values = self.W_value(x)\n",
    "\n",
    "    keys = keys.view(b, num_tokens, self.num_heads, self.head_dim)\n",
    "    values = values.view(b, num_tokens, self.num_heads, self.head_dim)\n",
    "    queries = queries.view(b, num_tokens, self.num_heads, self.head_dim)\n",
    "    \n",
    "    keys = keys.transpose(1, 2)\n",
    "    queries = queries.transpose(1, 2)\n",
    "    values = values.transpose(1, 2)\n",
    "\n",
    "    attn_scores = queries @ keys.transpose(2, 3)\n",
    "\n",
    "    mask_bool = self.mask.bool()[:num_tokens, :num_tokens]\n",
    "\n",
    "    attn_scores.masked_fill_(mask_bool, -torch.inf)\n",
    "\n",
    "    attn_weights = torch.softmax(attn_scores / keys.shape[-1] ** 0.5, dim=-1)\n",
    "    attn_weights = self.dropout(attn_weights)\n",
    "\n",
    "    context_vec = torch.transpose((attn_weights @ values), 1, 2)\n",
    "\n",
    "    context_vec = context_vec.contiguous().view(b, num_tokens, self.d_out)\n",
    "    context_vec = self.out_proj(context_vec)\n",
    "\n",
    "    return context_vec"
   ]
  },
  {
   "cell_type": "code",
   "execution_count": 16,
   "metadata": {},
   "outputs": [
    {
     "name": "stdout",
     "output_type": "stream",
     "text": [
      "tensor([[[0.3190, 0.4858],\n",
      "         [0.2943, 0.3897],\n",
      "         [0.2856, 0.3593],\n",
      "         [0.2693, 0.3873],\n",
      "         [0.2639, 0.3928],\n",
      "         [0.2575, 0.4028]],\n",
      "\n",
      "        [[0.3190, 0.4858],\n",
      "         [0.2943, 0.3897],\n",
      "         [0.2856, 0.3593],\n",
      "         [0.2693, 0.3873],\n",
      "         [0.2639, 0.3928],\n",
      "         [0.2575, 0.4028]]], grad_fn=<ViewBackward0>)\n",
      "context_vecs.shape: torch.Size([2, 6, 2])\n"
     ]
    }
   ],
   "source": [
    "torch.manual_seed(123)\n",
    "\n",
    "batch_size, context_length, d_in = batch.shape\n",
    "d_out = 2\n",
    "mha = MultiHeadAttention(d_in, d_out, context_length, 0.0, num_heads=2)\n",
    "\n",
    "context_vecs = mha(batch)\n",
    "\n",
    "print(context_vecs)\n",
    "print(\"context_vecs.shape:\", context_vecs.shape)\n"
   ]
  },
  {
   "cell_type": "code",
   "execution_count": null,
   "metadata": {},
   "outputs": [],
   "source": []
  }
 ],
 "metadata": {
  "kernelspec": {
   "display_name": ".venv",
   "language": "python",
   "name": "python3"
  },
  "language_info": {
   "codemirror_mode": {
    "name": "ipython",
    "version": 3
   },
   "file_extension": ".py",
   "mimetype": "text/x-python",
   "name": "python",
   "nbconvert_exporter": "python",
   "pygments_lexer": "ipython3",
   "version": "3.10.11"
  }
 },
 "nbformat": 4,
 "nbformat_minor": 2
}
