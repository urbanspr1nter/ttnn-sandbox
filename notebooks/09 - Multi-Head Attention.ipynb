{
 "cells": [
  {
   "cell_type": "code",
   "execution_count": 2,
   "metadata": {},
   "outputs": [
    {
     "data": {
      "text/plain": [
       "<torch._C.Generator at 0x7e43787db3b0>"
      ]
     },
     "execution_count": 2,
     "metadata": {},
     "output_type": "execute_result"
    }
   ],
   "source": [
    "import torch\n",
    "#import ttnn\n",
    "from torch import nn\n",
    "\n",
    "torch.manual_seed(123)"
   ]
  },
  {
   "cell_type": "code",
   "execution_count": 3,
   "metadata": {},
   "outputs": [
    {
     "data": {
      "text/plain": [
       "(3, 2)"
      ]
     },
     "execution_count": 3,
     "metadata": {},
     "output_type": "execute_result"
    }
   ],
   "source": [
    "context = torch.tensor(\n",
    "  [[0.43, 0.15, 0.89], # Your     (x^1)\n",
    "   [0.55, 0.87, 0.66], # journey  (x^2)\n",
    "   [0.57, 0.85, 0.64], # starts   (x^3)\n",
    "   [0.22, 0.58, 0.33], # with     (x^4)\n",
    "   [0.77, 0.25, 0.10], # one      (x^5)\n",
    "   [0.05, 0.80, 0.55]] # step     (x^6)\n",
    ")\n",
    "\n",
    "batch = torch.stack((context, context), dim=0)\n",
    "d = context.shape\n",
    "d_in = context.shape[1]\n",
    "d_out = context.shape[1] - 1\n",
    "\n",
    "d_in, d_out"
   ]
  },
  {
   "cell_type": "code",
   "execution_count": 4,
   "metadata": {},
   "outputs": [],
   "source": [
    "\n",
    "class CausalAttention(nn.Module):\n",
    "  def __init__(self, d_in, d_out, context_length, dropout, qkv_bias=False):\n",
    "    super().__init__()\n",
    "\n",
    "    self.d_out = d_out\n",
    "    \n",
    "    self.W_query = nn.Linear(d_in, d_out, bias=qkv_bias)\n",
    "    self.W_key = nn.Linear(d_in, d_out, bias=qkv_bias)\n",
    "    self.W_value = nn.Linear(d_in, d_out, bias=qkv_bias)\n",
    "    \n",
    "    self.dropout = nn.Dropout(dropout)\n",
    "\n",
    "    self.mask = torch.triu(\n",
    "      torch.ones(context_length, context_length),\n",
    "      diagonal=1\n",
    "    )\n",
    "\n",
    "  def forward(self, x): \n",
    "    b, num_tokens, d_in = x.shape\n",
    "    keys = self.W_query(x)\n",
    "    queries = self.W_query(x)\n",
    "    values = self.W_value(x)\n",
    "\n",
    "    # transpose the last 2 dimensions while leaving the batch dimension alone.\n",
    "    attn_scores = queries @ keys.transpose(1, 2)\n",
    "    attn_scores.masked_fill(\n",
    "      self.mask.bool()[:num_tokens, :num_tokens], -torch.inf\n",
    "    )\n",
    "    attn_weights = torch.softmax(\n",
    "      attn_scores / keys.shape[-1]**0.5, dim=-1\n",
    "    )\n",
    "\n",
    "    attn_weights = self.dropout(attn_weights)\n",
    "\n",
    "    context_vec = attn_weights @ values\n",
    "\n",
    "    return context_vec\n"
   ]
  },
  {
   "cell_type": "code",
   "execution_count": 5,
   "metadata": {},
   "outputs": [
    {
     "data": {
      "text/plain": [
       "tensor([[[-0.5287, -0.0976],\n",
       "         [-0.5293, -0.1053],\n",
       "         [-0.5293, -0.1052],\n",
       "         [-0.5287, -0.1072],\n",
       "         [-0.5287, -0.1038],\n",
       "         [-0.5288, -0.1080]],\n",
       "\n",
       "        [[-0.5287, -0.0976],\n",
       "         [-0.5293, -0.1053],\n",
       "         [-0.5293, -0.1052],\n",
       "         [-0.5287, -0.1072],\n",
       "         [-0.5287, -0.1038],\n",
       "         [-0.5288, -0.1080]]], grad_fn=<UnsafeViewBackward0>)"
      ]
     },
     "execution_count": 5,
     "metadata": {},
     "output_type": "execute_result"
    }
   ],
   "source": [
    "torch.manual_seed(123)\n",
    "context_length = batch.shape[1]\n",
    "ca = CausalAttention(d_in, d_out, context_length, 0.0)\n",
    "ca(batch)\n"
   ]
  },
  {
   "cell_type": "code",
   "execution_count": 6,
   "metadata": {},
   "outputs": [],
   "source": [
    "class MultiHeadAttentionWrapper(nn.Module):\n",
    "  def __init__(self, d_in, d_out, context_length, dropout, num_heads, qkv_bias=False):\n",
    "    super().__init__()\n",
    "\n",
    "    self.heads = nn.ModuleList(\n",
    "      [\n",
    "        CausalAttention(d_in, d_out, context_length, dropout, qkv_bias) \n",
    "        for _ in range(num_heads)\n",
    "      ]\n",
    "    )\n",
    "\n",
    "  def forward(self, x):\n",
    "    return torch.cat([head(x) for head in self.heads], dim=-1)\n",
    "\n"
   ]
  },
  {
   "cell_type": "code",
   "execution_count": 7,
   "metadata": {},
   "outputs": [
    {
     "data": {
      "text/plain": [
       "(tensor([[[-0.5287, -0.0976,  0.5122,  0.3448],\n",
       "          [-0.5293, -0.1053,  0.5123,  0.3449],\n",
       "          [-0.5293, -0.1052,  0.5121,  0.3448],\n",
       "          [-0.5287, -0.1072,  0.5096,  0.3438],\n",
       "          [-0.5287, -0.1038,  0.5078,  0.3427],\n",
       "          [-0.5288, -0.1080,  0.5113,  0.3446]],\n",
       " \n",
       "         [[-0.5287, -0.0976,  0.5122,  0.3448],\n",
       "          [-0.5293, -0.1053,  0.5123,  0.3449],\n",
       "          [-0.5293, -0.1052,  0.5121,  0.3448],\n",
       "          [-0.5287, -0.1072,  0.5096,  0.3438],\n",
       "          [-0.5287, -0.1038,  0.5078,  0.3427],\n",
       "          [-0.5288, -0.1080,  0.5113,  0.3446]]], grad_fn=<CatBackward0>),\n",
       " torch.Size([2, 6, 4]))"
      ]
     },
     "execution_count": 7,
     "metadata": {},
     "output_type": "execute_result"
    }
   ],
   "source": [
    "torch.manual_seed(123)\n",
    "context_length = batch.shape[1]\n",
    "mha = MultiHeadAttentionWrapper(d_in, d_out, context_length, 0.0, num_heads=2)\n",
    "context_vecs = mha(batch)\n",
    "context_vecs, context_vecs.shape"
   ]
  },
  {
   "cell_type": "code",
   "execution_count": 8,
   "metadata": {},
   "outputs": [],
   "source": [
    "class MultiHeadAttention(nn.Module):\n",
    "  def __init__(self, d_in, d_out, context_length, dropout, num_heads, qkv_bias=False):\n",
    "    super().__init__()\n",
    "\n",
    "    self.d_out = d_out\n",
    "    self.num_heads = num_heads\n",
    "    self.head_dim = d_out // num_heads # Reduce the projection dimension to match the output dim\n",
    "\n",
    "    self.W_query = nn.Linear(d_in, d_out, bias=qkv_bias)\n",
    "    self.W_key = nn.Linear(d_in, d_out, bias=qkv_bias)\n",
    "    self.W_value = nn.Linear(d_in, d_out, bias=qkv_bias)\n",
    "    self.dropout = nn.Dropout(dropout)\n",
    "\n",
    "    self.mask = torch.triu(torch.ones(context_length, context_length), diagonal=1)\n",
    "\n",
    "  def forward(self, x):\n",
    "    b, num_tokens, d_in = x.shape\n",
    "\n",
    "    keys = self.W_key(x)\n",
    "    queries = self.W_query(x)\n",
    "    values = self.W_value(x)\n",
    "\n",
    "    keys = keys.view(b, num_tokens, self.num_heads, self.head_dim)\n",
    "    values = values.view(b, num_tokens, self.num_heads, self.head_dim)\n",
    "    queries = queries.view(b, num_tokens, self.num_heads, self.head_dim)\n",
    "    \n",
    "    keys = keys.transpose(1, 2)\n",
    "    queries = queries.transpose(1, 2)\n",
    "    values = values.transpose(1, 2)\n",
    "    \n",
    "    attn_scores = queries @ keys.transpose(2, 3)\n",
    "\n",
    "    mask_bool = self.mask.bool()[:num_tokens, :num_tokens]\n",
    "\n",
    "    attn_scores.masked_fill_(mask_bool, -torch.inf)\n",
    "\n",
    "    print(\"attn_scores\", attn_scores)\n",
    "\n",
    "    attn_weights = torch.softmax(attn_scores / keys.shape[-1] ** 0.5, dim=-1)\n",
    "    attn_weights = self.dropout(attn_weights)\n",
    "\n",
    "    context_vec = torch.transpose((attn_weights @ values), 1, 2)\n",
    "\n",
    "    context_vec = context_vec.contiguous().view(b, num_tokens, self.d_out)\n",
    "\n",
    "    return context_vec"
   ]
  },
  {
   "cell_type": "code",
   "execution_count": 9,
   "metadata": {},
   "outputs": [
    {
     "name": "stdout",
     "output_type": "stream",
     "text": [
      "attn_scores tensor([[[[ 0.2029,    -inf,    -inf,    -inf,    -inf,    -inf],\n",
      "          [ 0.1734,  0.2631,    -inf,    -inf,    -inf,    -inf],\n",
      "          [ 0.1730,  0.2625,  0.2601,    -inf,    -inf,    -inf],\n",
      "          [ 0.0777,  0.1179,  0.1168,  0.0648,    -inf,    -inf],\n",
      "          [ 0.1178,  0.1787,  0.1770,  0.0983,  0.0973,    -inf],\n",
      "          [ 0.0885,  0.1343,  0.1330,  0.0738,  0.0731,  0.0908]],\n",
      "\n",
      "         [[ 0.1081,    -inf,    -inf,    -inf,    -inf,    -inf],\n",
      "          [-0.0079, -0.0029,    -inf,    -inf,    -inf,    -inf],\n",
      "          [-0.0063, -0.0023, -0.0025,    -inf,    -inf,    -inf],\n",
      "          [-0.0267, -0.0099, -0.0104, -0.0005,    -inf,    -inf],\n",
      "          [ 0.0237,  0.0088,  0.0092,  0.0004,  0.0148,    -inf],\n",
      "          [-0.0409, -0.0151, -0.0159, -0.0008, -0.0254,  0.0058]]],\n",
      "\n",
      "\n",
      "        [[[ 0.2029,    -inf,    -inf,    -inf,    -inf,    -inf],\n",
      "          [ 0.1734,  0.2631,    -inf,    -inf,    -inf,    -inf],\n",
      "          [ 0.1730,  0.2625,  0.2601,    -inf,    -inf,    -inf],\n",
      "          [ 0.0777,  0.1179,  0.1168,  0.0648,    -inf,    -inf],\n",
      "          [ 0.1178,  0.1787,  0.1770,  0.0983,  0.0973,    -inf],\n",
      "          [ 0.0885,  0.1343,  0.1330,  0.0738,  0.0731,  0.0908]],\n",
      "\n",
      "         [[ 0.1081,    -inf,    -inf,    -inf,    -inf,    -inf],\n",
      "          [-0.0079, -0.0029,    -inf,    -inf,    -inf,    -inf],\n",
      "          [-0.0063, -0.0023, -0.0025,    -inf,    -inf,    -inf],\n",
      "          [-0.0267, -0.0099, -0.0104, -0.0005,    -inf,    -inf],\n",
      "          [ 0.0237,  0.0088,  0.0092,  0.0004,  0.0148,    -inf],\n",
      "          [-0.0409, -0.0151, -0.0159, -0.0008, -0.0254,  0.0058]]]],\n",
      "       grad_fn=<MaskedFillBackward0>)\n"
     ]
    },
    {
     "data": {
      "text/plain": [
       "(tensor([[[-0.4519,  0.2216],\n",
       "          [-0.5889,  0.0122],\n",
       "          [-0.6313, -0.0576],\n",
       "          [-0.5685, -0.0832],\n",
       "          [-0.5541, -0.0964],\n",
       "          [-0.5311, -0.1077]],\n",
       " \n",
       "         [[-0.4519,  0.2216],\n",
       "          [-0.5889,  0.0122],\n",
       "          [-0.6313, -0.0576],\n",
       "          [-0.5685, -0.0832],\n",
       "          [-0.5541, -0.0964],\n",
       "          [-0.5311, -0.1077]]], grad_fn=<ViewBackward0>),\n",
       " torch.Size([2, 6, 2]))"
      ]
     },
     "execution_count": 9,
     "metadata": {},
     "output_type": "execute_result"
    }
   ],
   "source": [
    "torch.manual_seed(123)\n",
    "\n",
    "batch_size, context_length, d_in = batch.shape\n",
    "d_out = 2\n",
    "mha = MultiHeadAttention(d_in, d_out, context_length, 0.0, num_heads=2)\n",
    "\n",
    "context_vecs = mha(batch)\n",
    "\n",
    "context_vecs, context_vecs.shape\n"
   ]
  },
  {
   "cell_type": "markdown",
   "metadata": {},
   "source": [
    "## TTNN Example"
   ]
  },
  {
   "cell_type": "code",
   "execution_count": 10,
   "metadata": {},
   "outputs": [
    {
     "name": "stderr",
     "output_type": "stream",
     "text": [
      "2025-05-04 13:54:01.144 | DEBUG    | ttnn.library_tweaks:prepare_dir_as_metal_home:54 - Existing installation of 0.57.0rc60+any detected\n",
      "2025-05-04 13:54:01.168 | DEBUG    | ttnn:<module>:83 - Initial ttnn.CONFIG:\n",
      "Config{cache_path=/home/avgdev/.cache/ttnn,model_cache_path=/home/avgdev/.cache/ttnn/models,tmp_dir=/tmp/ttnn,enable_model_cache=false,enable_fast_runtime_mode=true,throw_exception_on_fallback=false,enable_logging=false,enable_graph_report=false,enable_detailed_buffer_report=false,enable_detailed_tensor_report=false,enable_comparison_mode=false,comparison_mode_should_raise_exception=false,comparison_mode_pcc=0.9999,root_report_path=generated/ttnn/reports,report_name=std::nullopt,std::nullopt}\n"
     ]
    },
    {
     "data": {
      "text/plain": [
       "<torch._C.Generator at 0x7e43787db3b0>"
      ]
     },
     "execution_count": 10,
     "metadata": {},
     "output_type": "execute_result"
    }
   ],
   "source": [
    "import ttnn\n",
    "\n",
    "torch.manual_seed(123)"
   ]
  },
  {
   "cell_type": "code",
   "execution_count": 11,
   "metadata": {},
   "outputs": [],
   "source": [
    "core_grid_y = 8\n",
    "core_grid_x = 8\n",
    "MINUS_INFINITY=-1e9\n",
    "\n",
    "class MultiHeadAttention_ttnn(nn.Module):\n",
    "  def __init__(self, d_in, d_out, context_length, dropout, num_heads, device, qkv_bias=False):\n",
    "    super().__init__()\n",
    "\n",
    "    self.device = device\n",
    "    self.dropout_prob = dropout\n",
    "\n",
    "    self.d_out = d_out\n",
    "    self.num_heads = num_heads\n",
    "    self.head_dim = d_out // num_heads # Reduce the projection dimension to match the output dim\n",
    "\n",
    "    self.W_query = nn.Linear(d_in, d_out, bias=qkv_bias)\n",
    "    self.W_key = nn.Linear(d_in, d_out, bias=qkv_bias)\n",
    "    self.W_value = nn.Linear(d_in, d_out, bias=qkv_bias)\n",
    "    self.dropout = nn.Dropout(dropout)\n",
    "    self.mask = torch.triu(torch.ones(context_length, context_length), diagonal=1)\n",
    "\n",
    "    self.W_query_ttnn = ttnn.from_torch(\n",
    "      self.W_query.weight,\n",
    "      dtype=ttnn.bfloat16,\n",
    "      layout=ttnn.TILE_LAYOUT,\n",
    "      device=self.device,\n",
    "      memory_config=ttnn.L1_MEMORY_CONFIG\n",
    "    )\n",
    "    self.W_key_ttnn = ttnn.from_torch(\n",
    "      self.W_key.weight,\n",
    "      dtype=ttnn.bfloat16,\n",
    "      layout=ttnn.TILE_LAYOUT,\n",
    "      device=self.device,\n",
    "      memory_config=ttnn.L1_MEMORY_CONFIG\n",
    "    )\n",
    "    self.W_value_ttnn = ttnn.from_torch(\n",
    "      self.W_value.weight,\n",
    "      dtype=ttnn.bfloat16,\n",
    "      layout=ttnn.TILE_LAYOUT,\n",
    "      device=self.device,\n",
    "      memory_config=ttnn.L1_MEMORY_CONFIG\n",
    "    )\n",
    "    self.mask_ttnn = ttnn.from_torch(\n",
    "      self.mask,\n",
    "      dtype=ttnn.bfloat16,\n",
    "      layout=ttnn.TILE_LAYOUT,\n",
    "      device=self.device,\n",
    "      memory_config=ttnn.L1_MEMORY_CONFIG\n",
    "    )\n",
    "\n",
    "  def forward(self, x):\n",
    "    b, num_tokens, d_in = x.shape\n",
    "\n",
    "    x_ttnn = ttnn.from_torch(\n",
    "      x,\n",
    "      dtype=ttnn.bfloat16,\n",
    "      layout=ttnn.TILE_LAYOUT,\n",
    "      device=self.device\n",
    "    )\n",
    "\n",
    "    keys_ttnn = ttnn.linear(\n",
    "      x_ttnn,\n",
    "      self.W_key_ttnn,\n",
    "      transpose_b=True,\n",
    "      core_grid=ttnn.CoreGrid(y=core_grid_y, x=core_grid_x)\n",
    "    )\n",
    "    queries_ttnn = ttnn.linear(\n",
    "      x_ttnn,\n",
    "      self.W_query_ttnn,\n",
    "      transpose_b=True,\n",
    "      core_grid=ttnn.CoreGrid(y=core_grid_y, x=core_grid_x)\n",
    "    )\n",
    "    values_ttnn = ttnn.linear(\n",
    "      x_ttnn,\n",
    "      self.W_value_ttnn,\n",
    "      transpose_b=True,\n",
    "      core_grid=ttnn.CoreGrid(y=core_grid_y, x=core_grid_x)\n",
    "    )\n",
    "    \n",
    "    keys_ttnn = ttnn.reshape(keys_ttnn, (b, num_tokens, self.num_heads, self.head_dim))\n",
    "    values_ttnn = ttnn.reshape(values_ttnn, (b, num_tokens, self.num_heads, self.head_dim))\n",
    "    queries_ttnn = ttnn.reshape(queries_ttnn, (b, num_tokens, self.num_heads, self.head_dim))\n",
    "\n",
    "    keys_ttnn = ttnn.permute(keys_ttnn, (0, 2, 1, 3))\n",
    "    values_ttnn = ttnn.permute(values_ttnn, (0, 2, 1, 3))\n",
    "    queries_ttnn = ttnn.permute(queries_ttnn, (0, 2, 1, 3))\n",
    "\n",
    "    attn_scores_ttnn = ttnn.matmul(\n",
    "      queries_ttnn, \n",
    "      ttnn.permute(keys_ttnn, (0, 1, 3, 2)),\n",
    "      core_grid=ttnn.CoreGrid(y=core_grid_y, x=core_grid_x)\n",
    "    )\n",
    "\n",
    "\n",
    "    # if self.dropout_prob > 0.0:\n",
    "    inf_ttnn = ttnn.full_like(\n",
    "      attn_scores_ttnn,\n",
    "      MINUS_INFINITY, \n",
    "      layout=ttnn.TILE_LAYOUT\n",
    "    )\n",
    "\n",
    "    #attn_scores_ttnn = ttnn.where(self.mask_ttnn[:num_tokens, :num_tokens], inf_ttnn, attn_scores_ttnn)\n",
    "    attn_scores_ttnn = attn_scores_ttnn * (1 / (self.head_dim ** 0.5))\n",
    "    attn_mask_ttnn = ttnn.from_torch(\n",
    "      torch.randn(b, 1, 1, num_tokens),\n",
    "      dtype=ttnn.bfloat16,\n",
    "      layout=ttnn.TILE_LAYOUT,\n",
    "      device=self.device,\n",
    "    )\n",
    "    attn_scores_ttnn += attn_mask_ttnn\n",
    "\n",
    "    print(\"attn_scores_ttnn\", ttnn.to_layout(attn_scores_ttnn, ttnn.ROW_MAJOR_LAYOUT))\n",
    "\n",
    "    attn_weights_ttnn = ttnn.softmax(attn_scores_ttnn, dim=-1)\n",
    "\n",
    "    if self.dropout_prob > 0.0:\n",
    "      attn_weights_ttnn = ttnn.experimental.dropout(\n",
    "        attn_weights_ttnn,\n",
    "        seed=123,\n",
    "        probability=self.dropout_prob,\n",
    "        scale=1.0 / (1.0 - self.dropout_prob)\n",
    "      )\n",
    "\n",
    "    \n",
    "    context_vec_ttnn = ttnn.matmul(\n",
    "      attn_weights_ttnn,\n",
    "      values_ttnn,\n",
    "      core_grid=ttnn.CoreGrid(y=core_grid_y, x=core_grid_x)\n",
    "    ) \n",
    "\n",
    "    context_vec_ttnn = ttnn.permute(context_vec_ttnn, (0, 2, 1, 3))\n",
    "\n",
    "    \n",
    "    context_vec_ttnn = ttnn.reshape(context_vec_ttnn, (b, num_tokens, self.d_out))\n",
    "\n",
    "    context_vec = ttnn.from_device(context_vec_ttnn)\n",
    "    context_vec = ttnn.to_torch(context_vec)\n",
    "\n",
    "    return context_vec"
   ]
  },
  {
   "cell_type": "code",
   "execution_count": 12,
   "metadata": {},
   "outputs": [
    {
     "name": "stdout",
     "output_type": "stream",
     "text": [
      "                 Device | INFO     | Opening user mode device driver\n",
      "\u001b[32m2025-05-04 13:54:02.969\u001b[0m | \u001b[1m\u001b[38;2;100;149;237mINFO    \u001b[0m | \u001b[36mSiliconDriver  \u001b[0m - Opened PCI device 0; KMD version: 1.33.0, IOMMU: disabled\n",
      "\n",
      "\u001b[32m2025-05-04 13:54:02.977\u001b[0m | \u001b[1m\u001b[38;2;100;149;237mINFO    \u001b[0m | \u001b[36mSiliconDriver  \u001b[0m - Opened PCI device 0; KMD version: 1.33.0, IOMMU: disabled\n",
      "\u001b[32m2025-05-04 13:54:02.978\u001b[0m | \u001b[1m\u001b[38;2;100;149;237mINFO    \u001b[0m | \u001b[36mSiliconDriver  \u001b[0m - Harvesting mask for chip 0 is 0x200 (physical layout: 0x1, logical: 0x200, simulated harvesting mask: 0x0).\n",
      "\u001b[32m2025-05-04 13:54:02.979\u001b[0m | \u001b[1m\u001b[38;2;100;149;237mINFO    \u001b[0m | \u001b[36mSiliconDriver  \u001b[0m - Opened PCI device 0; KMD version: 1.33.0, IOMMU: disabled\n",
      "\u001b[32m2025-05-04 13:54:02.979\u001b[0m | \u001b[1m\u001b[38;2;100;149;237mINFO    \u001b[0m | \u001b[36mSiliconDriver  \u001b[0m - Detected PCI devices: [0]\n",
      "\u001b[32m2025-05-04 13:54:02.979\u001b[0m | \u001b[1m\u001b[38;2;100;149;237mINFO    \u001b[0m | \u001b[36mSiliconDriver  \u001b[0m - Using local chip ids: {0} and remote chip ids {}\n",
      "\u001b[32m2025-05-04 13:54:03.004\u001b[0m | \u001b[1m\u001b[38;2;100;149;237mINFO    \u001b[0m | \u001b[36mSiliconDriver  \u001b[0m - Software version 6.0.0, Ethernet FW version 6.14.0 (Device 0)\n",
      "                  Metal | INFO     | Initializing device 0. Program cache is NOT enabled\n",
      "                  Metal | INFO     | AI CLK for device 0 is:   1000 MHz\n",
      "                  Metal | WARNING  | Circular buffer indices are not contiguous starting at 0. This will hurt dispatch performance. Non-contiguous indices: 16. First unused index: 1. Kernels: reader_unary_transpose_wh_interleaved_start_id"
     ]
    },
    {
     "name": "stderr",
     "output_type": "stream",
     "text": [
      "New chip! We now have 1 chips\n",
      "Chip initialization complete (found )\n",
      "Chip initializing complete...\n",
      " ARC\n",
      "\n",
      " [4/4] DRAM\n",
      "\n",
      " [16/16] ETH\n",
      "\n",
      " CPU\n",
      "\n",
      "Chip detection complete (found )\n"
     ]
    },
    {
     "name": "stdout",
     "output_type": "stream",
     "text": [
      "\n",
      "                  Metal | WARNING  | Circular buffer indices are not contiguous starting at 0. This will hurt dispatch performance. Non-contiguous indices: 16. First unused index: 1. Kernels: writer_unary_interleaved_start_id, reader_unary_transpose_wh_interleaved_start_id, transpose_wh\n",
      "                  Metal | WARNING  | Circular buffer indices are not contiguous starting at 0. This will hurt dispatch performance. Non-contiguous indices: 4,5. First unused index: 2. Kernels: reader_bmm_tile_layout_in1_receiver_writer_padding, reader_bmm_tile_layout_in0_sender_padding, bmm_large_block_zm_fused_bias_activation\n",
      "                  Metal | WARNING  | Circular buffer indices are not contiguous starting at 0. This will hurt dispatch performance. Non-contiguous indices: 4,5. First unused index: 2. Kernels: reader_bmm_tile_layout_in1_sender_writer_padding, reader_bmm_tile_layout_in0_sender_padding, bmm_large_block_zm_fused_bias_activation\n",
      "                  Metal | WARNING  | Circular buffer indices are not contiguous starting at 0. This will hurt dispatch performance. Non-contiguous indices: 16. First unused index: 1. Kernels: reader_unary_interleaved_start_id\n",
      "                  Metal | WARNING  | Circular buffer indices are not contiguous starting at 0. This will hurt dispatch performance. Non-contiguous indices: 16. First unused index: 1. Kernels: writer_unary_stick_layout_split_rows_multicore, reader_unary_interleaved_start_id, pack_untilize\n",
      "                  Metal | WARNING  | Circular buffer indices are not contiguous starting at 0. This will hurt dispatch performance. Non-contiguous indices: 16. First unused index: 1. Kernels: reader_unary_pad_dims_split_rows_multicore\n",
      "                  Metal | WARNING  | Circular buffer indices are not contiguous starting at 0. This will hurt dispatch performance. Non-contiguous indices: 16. First unused index: 1. Kernels: writer_unary_interleaved_start_id, reader_unary_pad_dims_split_rows_multicore, tilize\n",
      "                  Metal | WARNING  | Circular buffer indices are not contiguous starting at 0. This will hurt dispatch performance. Non-contiguous indices: 4,5. First unused index: 2. Kernels: reader_writer_bmm_tile_layout_in1, reader_bmm_tile_layout_in0, bmm_large_block_zm_fused_bias_activation\n",
      "                  Metal | WARNING  | Circular buffer indices are not contiguous starting at 0. This will hurt dispatch performance. Non-contiguous indices: 2. First unused index: 1. Kernels: reader_unary_interleaved_start_id\n",
      "                  Metal | WARNING  | Circular buffer indices are not contiguous starting at 0. This will hurt dispatch performance. Non-contiguous indices: 2. First unused index: 1. Kernels: writer_unary_interleaved_start_id, reader_unary_interleaved_start_id, eltwise_sfpu\n",
      "attn_scores_ttnn ttnn.Tensor([[[[ 0.11279, -0.62109,  ..., -1.46094,  0.98047],\n",
      "               [ 0.15625, -0.57812,  ..., -1.41406,  0.99219],\n",
      "               ...,\n",
      "               [ 0.12256, -0.61719,  ..., -1.44531,  0.97266],\n",
      "               [ 0.16895, -0.62109,  ..., -1.41406,  0.94531]],\n",
      "\n",
      "              [[-0.04395, -0.96484,  ..., -1.46094,  0.62109],\n",
      "               [-0.13574, -1.07031,  ..., -1.54688,  0.57031],\n",
      "               ...,\n",
      "               [-0.06738, -0.98438,  ..., -1.54688,  0.66016],\n",
      "               [-0.01367, -0.89062,  ..., -1.50000,  0.72656]]],\n",
      "\n",
      "             [[[ 0.60156, -0.89453,  ..., -0.50391,  0.22852],\n",
      "               [ 0.64453, -0.85156,  ..., -0.45898,  0.24121],\n",
      "               ...,\n",
      "               [ 0.61328, -0.89062,  ..., -0.49219,  0.22168],\n",
      "               [ 0.66016, -0.89453,  ..., -0.46289,  0.19238]],\n",
      "\n",
      "              [[ 0.44531, -1.23438,  ..., -0.50391, -0.13281],\n",
      "               [ 0.35352, -1.34375,  ..., -0.59375, -0.18359],\n",
      "               ...,\n",
      "               [ 0.42188, -1.25781,  ..., -0.59766, -0.09375],\n",
      "               [ 0.47656, -1.16406,  ..., -0.54688, -0.02637]]]], shape=Shape([2, 2, 6, 6]), dtype=DataType::BFLOAT16, layout=Layout::ROW_MAJOR)\n",
      "                  Metal | WARNING  | Circular buffer indices are not contiguous starting at 0. This will hurt dispatch performance. Non-contiguous indices: 2,5,6,7,11. First unused index: 1. Kernels: writer_unary_interleaved_start_id_blocked_sm, reader_unary_interleaved_sm, softmax\n",
      "                  Metal | INFO     | Closing device 0\n",
      "                  Metal | INFO     | Disabling and clearing program cache on device 0\n"
     ]
    },
    {
     "data": {
      "text/plain": [
       "(TorchTensor([[[ 0.1079, -0.1455,  0.1182,  0.0165, -0.1001,  0.1318,  0.0457,\n",
       "                -0.0620, -0.1128, -0.4609,  0.1270, -0.5430, -0.0072, -0.2031,\n",
       "                -0.1270, -0.1729, -0.1816,  0.5039, -0.0374,  0.1348, -0.1641,\n",
       "                -0.1504,  0.2734,  0.0986,  0.3691,  0.1768,  0.2080, -0.3848,\n",
       "                -0.3359, -0.1162, -0.0500,  0.1504],\n",
       "               [ 0.1084, -0.1494,  0.1206,  0.0160, -0.1030,  0.1348,  0.0461,\n",
       "                -0.0645, -0.1123, -0.4668,  0.1309, -0.5547, -0.0066, -0.2041,\n",
       "                -0.1270, -0.1738, -0.1826,  0.5039, -0.0364,  0.1338, -0.1660,\n",
       "                -0.1504,  0.2715,  0.0986,  0.3672,  0.1768,  0.2090, -0.3848,\n",
       "                -0.3359, -0.1147, -0.0515,  0.1494],\n",
       "               [ 0.1074, -0.1475,  0.1196,  0.0159, -0.1021,  0.1328,  0.0457,\n",
       "                -0.0640, -0.1113, -0.4609,  0.1289, -0.5469, -0.0065, -0.2021,\n",
       "                -0.1260, -0.1719, -0.1836,  0.5039, -0.0361,  0.1338, -0.1670,\n",
       "                -0.1514,  0.2734,  0.0986,  0.3691,  0.1777,  0.2100, -0.3867,\n",
       "                -0.3359, -0.1143, -0.0525,  0.1494],\n",
       "               [ 0.1045, -0.1484,  0.1191,  0.0148, -0.1021,  0.1338,  0.0459,\n",
       "                -0.0649, -0.1094, -0.4590,  0.1299, -0.5469, -0.0063, -0.1992,\n",
       "                -0.1235, -0.1689, -0.1826,  0.5039, -0.0364,  0.1338, -0.1680,\n",
       "                -0.1494,  0.2715,  0.0962,  0.3672,  0.1777,  0.2090, -0.3828,\n",
       "                -0.3340, -0.1104, -0.0540,  0.1484],\n",
       "               [ 0.1074, -0.1465,  0.1187,  0.0161, -0.1011,  0.1318,  0.0457,\n",
       "                -0.0630, -0.1118, -0.4609,  0.1279, -0.5430, -0.0068, -0.2021,\n",
       "                -0.1260, -0.1719, -0.1846,  0.5078, -0.0361,  0.1348, -0.1689,\n",
       "                -0.1514,  0.2734,  0.0981,  0.3691,  0.1787,  0.2109, -0.3867,\n",
       "                -0.3379, -0.1128, -0.0540,  0.1494],\n",
       "               [ 0.1050, -0.1494,  0.1196,  0.0149, -0.1025,  0.1338,  0.0459,\n",
       "                -0.0654, -0.1094, -0.4590,  0.1309, -0.5469, -0.0062, -0.2002,\n",
       "                -0.1240, -0.1689, -0.1826,  0.5039, -0.0366,  0.1348, -0.1680,\n",
       "                -0.1494,  0.2734,  0.0962,  0.3672,  0.1777,  0.2090, -0.3828,\n",
       "                -0.3340, -0.1108, -0.0535,  0.1484]],\n",
       " \n",
       "              [[ 0.0747, -0.2422,  0.1787, -0.0070, -0.1738,  0.1787,  0.0474,\n",
       "                -0.1445, -0.0525, -0.4766,  0.2119, -0.6797,  0.0210, -0.1816,\n",
       "                -0.0850, -0.1196, -0.1670,  0.5391, -0.0496,  0.1318, -0.0554,\n",
       "                -0.2002,  0.2930,  0.1787,  0.4238,  0.1484,  0.1758, -0.4590,\n",
       "                -0.3867, -0.2871,  0.0605,  0.2012],\n",
       "               [ 0.0752, -0.2432,  0.1797, -0.0070, -0.1748,  0.1787,  0.0471,\n",
       "                -0.1455, -0.0518, -0.4766,  0.2119, -0.6797,  0.0215, -0.1816,\n",
       "                -0.0850, -0.1196, -0.1670,  0.5352, -0.0471,  0.1299, -0.0574,\n",
       "                -0.2002,  0.2891,  0.1787,  0.4199,  0.1475,  0.1758, -0.4570,\n",
       "                -0.3828, -0.2832,  0.0576,  0.1982],\n",
       "               [ 0.0752, -0.2432,  0.1797, -0.0070, -0.1748,  0.1787,  0.0471,\n",
       "                -0.1455, -0.0518, -0.4766,  0.2119, -0.6797,  0.0216, -0.1826,\n",
       "                -0.0850, -0.1196, -0.1680,  0.5352, -0.0469,  0.1299, -0.0576,\n",
       "                -0.2002,  0.2891,  0.1787,  0.4199,  0.1475,  0.1758, -0.4551,\n",
       "                -0.3828, -0.2832,  0.0571,  0.1982],\n",
       "               [ 0.0713, -0.2461,  0.1797, -0.0089, -0.1758,  0.1807,  0.0479,\n",
       "                -0.1484, -0.0488, -0.4766,  0.2148, -0.6797,  0.0219, -0.1787,\n",
       "                -0.0815, -0.1147, -0.1709,  0.5430, -0.0469,  0.1318, -0.0625,\n",
       "                -0.2012,  0.2910,  0.1787,  0.4238,  0.1514,  0.1797, -0.4609,\n",
       "                -0.3867, -0.2812,  0.0540,  0.1992],\n",
       "               [ 0.0747, -0.2422,  0.1787, -0.0071, -0.1738,  0.1787,  0.0471,\n",
       "                -0.1455, -0.0520, -0.4766,  0.2119, -0.6797,  0.0212, -0.1816,\n",
       "                -0.0850, -0.1191, -0.1709,  0.5430, -0.0459,  0.1309, -0.0618,\n",
       "                -0.2021,  0.2910,  0.1797,  0.4238,  0.1504,  0.1787, -0.4609,\n",
       "                -0.3867, -0.2832,  0.0544,  0.1982],\n",
       "               [ 0.0713, -0.2441,  0.1787, -0.0085, -0.1748,  0.1797,  0.0471,\n",
       "                -0.1475, -0.0486, -0.4727,  0.2139, -0.6758,  0.0220, -0.1777,\n",
       "                -0.0815, -0.1147, -0.1699,  0.5430, -0.0476,  0.1318, -0.0615,\n",
       "                -0.2012,  0.2930,  0.1787,  0.4238,  0.1504,  0.1787, -0.4590,\n",
       "                -0.3867, -0.2832,  0.0552,  0.1992]]], dtype=torch.bfloat16),\n",
       " torch.Size([2, 6, 32]))"
      ]
     },
     "execution_count": 12,
     "metadata": {},
     "output_type": "execute_result"
    }
   ],
   "source": [
    "\n",
    "torch.manual_seed(123)\n",
    "\n",
    "device_id = 0\n",
    "device = ttnn.open_device(device_id=device_id)\n",
    "\n",
    "batch_size, context_length, d_in = batch.shape\n",
    "d_out = 32\n",
    "mha = MultiHeadAttention_ttnn(d_in, d_out, context_length, 0.0, num_heads=2, device=device)\n",
    "\n",
    "context_vecs = mha(batch)\n",
    "\n",
    "ttnn.close_device(device)\n",
    "\n",
    "context_vecs, context_vecs.shape"
   ]
  },
  {
   "cell_type": "code",
   "execution_count": 13,
   "metadata": {},
   "outputs": [
    {
     "name": "stdout",
     "output_type": "stream",
     "text": [
      "                 Always | FATAL    | Attempting to push work to Device 0 which is not initialized. Ignoring...\n",
      "                 Always | WARNING  | Attempting to synchronize Device 0 which is not initialized. Ignoring...\n"
     ]
    }
   ],
   "source": [
    "ttnn.close_device(device)"
   ]
  },
  {
   "cell_type": "code",
   "execution_count": null,
   "metadata": {},
   "outputs": [],
   "source": []
  }
 ],
 "metadata": {
  "kernelspec": {
   "display_name": ".venv",
   "language": "python",
   "name": "python3"
  },
  "language_info": {
   "codemirror_mode": {
    "name": "ipython",
    "version": 3
   },
   "file_extension": ".py",
   "mimetype": "text/x-python",
   "name": "python",
   "nbconvert_exporter": "python",
   "pygments_lexer": "ipython3",
   "version": "3.10.11"
  }
 },
 "nbformat": 4,
 "nbformat_minor": 2
}
