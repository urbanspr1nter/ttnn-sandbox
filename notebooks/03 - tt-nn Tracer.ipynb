{
 "cells": [
  {
   "cell_type": "markdown",
   "metadata": {},
   "source": [
    "# tt-nn Tracer Example"
   ]
  },
  {
   "cell_type": "markdown",
   "metadata": {},
   "source": [
    "This notebook will show you how to use the components in `ttnn.tracer` to trace operations, and visualize it using `graphviz`.\n",
    "\n",
    "It can help with debugging process and understanding how operations work in the ttnn library.\n",
    "\n",
    "The API/uage is simple, so it should become a very invaluable tool during our explorations"
   ]
  },
  {
   "cell_type": "markdown",
   "metadata": {},
   "source": [
    "## Dependencies and Setup\n",
    "\n",
    "In order for the tracer to work we need to disable the fast runtime mode. This is done through setting an environment variable _before_ we import the `ttnn` library."
   ]
  },
  {
   "cell_type": "code",
   "execution_count": 2,
   "metadata": {},
   "outputs": [],
   "source": [
    "import os\n",
    "\n",
    "os.environ[\"TTNN_CONFIG_OVERRIDES\"] = \"{\\\"enable_fast_runtime_mode\\\": false}\""
   ]
  },
  {
   "cell_type": "markdown",
   "metadata": {},
   "source": [
    "Once the `enable_fast_runtime_mode` is disabled, we can import the `ttnn` library and use the tracer."
   ]
  },
  {
   "cell_type": "code",
   "execution_count": 3,
   "metadata": {},
   "outputs": [
    {
     "name": "stderr",
     "output_type": "stream",
     "text": [
      "2025-04-20 04:33:24.896 | DEBUG    | ttnn:<module>:80 - Loading ttnn configuration overrides from environment variable TTNN_CONFIG_OVERRIDES\n",
      "2025-04-20 04:33:24.898 | DEBUG    | ttnn:<module>:83 - Initial ttnn.CONFIG:\n",
      "Config{cache_path=/home/avgdev/.cache/ttnn,model_cache_path=/home/avgdev/.cache/ttnn/models,tmp_dir=/tmp/ttnn,enable_model_cache=false,enable_fast_runtime_mode=false,throw_exception_on_fallback=false,enable_logging=false,enable_graph_report=false,enable_detailed_buffer_report=false,enable_detailed_tensor_report=false,enable_comparison_mode=false,comparison_mode_should_raise_exception=false,comparison_mode_pcc=0.9999,root_report_path=generated/ttnn/reports,report_name=std::nullopt,std::nullopt}\n"
     ]
    }
   ],
   "source": [
    "\n",
    "import ttnn\n",
    "import torch\n",
    "from ttnn.tracer import trace, visualize"
   ]
  },
  {
   "cell_type": "markdown",
   "metadata": {},
   "source": [
    "## Example\n",
    "\n",
    "Let's go back to our matrix multiplication example. We'll just trace the operation in multiplying 2 matrices and see what that looks like when visualized.\n",
    "\n",
    "Create two simple matrices of (1, 2) and (2, 1) dimensions already in `TILE_LAYOUT`.\n",
    "\n",
    "We can initialize the matrices under the `with trace():` context manager. Operations performed within will be traced and stored for visualization."
   ]
  },
  {
   "cell_type": "code",
   "execution_count": 4,
   "metadata": {},
   "outputs": [
    {
     "name": "stdout",
     "output_type": "stream",
     "text": [
      "                 Always | INFO     | Begin op: tt::tt_metal::detail::convert_python_tensor_to_tt_tensor\n",
      "                 Always | INFO     | input any type name ignored: std::__1::reference_wrapper<pybind11::handle const>\n",
      "                 Always | INFO     | input any type name ignored: std::__1::reference_wrapper<std::__1::optional<tt::tt_metal::DataType>>\n",
      "                 Always | INFO     | input any type name ignored: std::__1::reference_wrapper<std::__1::optional<tt::tt_metal::Layout>>\n",
      "                 Always | INFO     | input any type name ignored: std::__1::reference_wrapper<std::__1::optional<tt::tt_metal::Tile> const>\n",
      "                 Always | INFO     | input any type name ignored: std::__1::reference_wrapper<tt::tt_metal::MemoryConfig const>\n",
      "                 Always | INFO     | input any type name ignored: std::__1::reference_wrapper<tt::tt_metal::IDevice*>\n",
      "                 Always | INFO     | input any type name ignored: std::__1::reference_wrapper<bool const>\n",
      "                 Always | INFO     | End op: tt::tt_metal::detail::convert_python_tensor_to_tt_tensor\n",
      "                 Always | INFO     | Tensor doesn't have buffer, but storage is tt::tt_metal::BorrowedStorage\n",
      "                 Always | INFO     | Begin op: ttnn::to_layout\n",
      "                 Always | INFO     | Tensor doesn't have buffer, but storage is tt::tt_metal::BorrowedStorage\n",
      "                 Always | INFO     | input any type name ignored: std::__1::reference_wrapper<tt::tt_metal::Layout const>\n",
      "                 Always | INFO     | input any type name ignored: std::__1::reference_wrapper<std::__1::optional<tt::tt_metal::DataType> const>\n",
      "                 Always | INFO     | input any type name ignored: std::__1::reference_wrapper<std::__1::optional<tt::tt_metal::MemoryConfig> const>\n",
      "                 Always | INFO     | input any type name ignored: std::__1::reference_wrapper<tt::tt_metal::IDevice*>\n",
      "                 Always | INFO     | Begin op: Tensor::pad\n",
      "                 Always | INFO     | Tensor doesn't have buffer, but storage is tt::tt_metal::BorrowedStorage\n",
      "                 Always | INFO     | input any type name ignored: std::__1::reference_wrapper<tt::tt_metal::Shape const>\n",
      "                 Always | INFO     | input any type name ignored: std::__1::reference_wrapper<tt::tt_metal::Shape const>\n",
      "                 Always | INFO     | input any type name ignored: std::__1::reference_wrapper<float>\n",
      "                 Always | INFO     | End op: Tensor::pad\n",
      "                 Always | INFO     | Tensor doesn't have buffer, but storage is tt::tt_metal::OwnedStorage\n",
      "                 Always | INFO     | Begin op: Tensor::to_layout\n",
      "                 Always | INFO     | Tensor doesn't have buffer, but storage is tt::tt_metal::OwnedStorage\n",
      "                 Always | INFO     | input any type name ignored: std::__1::reference_wrapper<tt::tt_metal::Layout>\n",
      "                 Always | INFO     | input any type name ignored: std::__1::reference_wrapper<tt::tt_metal::IDevice*>\n",
      "                 Always | INFO     | End op: Tensor::to_layout\n",
      "                 Always | INFO     | Tensor doesn't have buffer, but storage is tt::tt_metal::OwnedStorage\n",
      "                 Always | INFO     | Begin op: ttnn::experimental::view\n",
      "                 Always | INFO     | Tensor doesn't have buffer, but storage is tt::tt_metal::OwnedStorage\n",
      "                 Always | INFO     | input any type name ignored: std::__1::reference_wrapper<tt::tt_metal::Shape>\n",
      "                 Always | INFO     | input any type name ignored: std::__1::reference_wrapper<tt::tt_metal::Shape>\n",
      "                 Always | INFO     | Begin op: Tensor::reshape\n",
      "                 Always | INFO     | Tensor doesn't have buffer, but storage is tt::tt_metal::OwnedStorage\n",
      "                 Always | INFO     | input any type name ignored: std::__1::reference_wrapper<tt::tt_metal::Shape const>\n",
      "                 Always | INFO     | input any type name ignored: std::__1::reference_wrapper<tt::tt_metal::Shape const>\n",
      "                 Always | INFO     | End op: Tensor::reshape\n",
      "                 Always | INFO     | Tensor doesn't have buffer, but storage is tt::tt_metal::OwnedStorage\n",
      "                 Always | INFO     | End op: ttnn::experimental::view\n",
      "                 Always | INFO     | Tensor doesn't have buffer, but storage is tt::tt_metal::OwnedStorage\n",
      "                 Always | INFO     | End op: ttnn::to_layout\n",
      "                 Always | INFO     | Tensor doesn't have buffer, but storage is tt::tt_metal::OwnedStorage\n",
      "                 Always | INFO     | Begin op: tt::tt_metal::detail::convert_python_tensor_to_tt_tensor\n",
      "                 Always | INFO     | input any type name ignored: std::__1::reference_wrapper<pybind11::handle const>\n",
      "                 Always | INFO     | input any type name ignored: std::__1::reference_wrapper<std::__1::optional<tt::tt_metal::DataType>>\n",
      "                 Always | INFO     | input any type name ignored: std::__1::reference_wrapper<std::__1::optional<tt::tt_metal::Layout>>\n",
      "                 Always | INFO     | input any type name ignored: std::__1::reference_wrapper<std::__1::optional<tt::tt_metal::Tile> const>\n",
      "                 Always | INFO     | input any type name ignored: std::__1::reference_wrapper<tt::tt_metal::MemoryConfig const>\n",
      "                 Always | INFO     | input any type name ignored: std::__1::reference_wrapper<tt::tt_metal::IDevice*>\n",
      "                 Always | INFO     | input any type name ignored: std::__1::reference_wrapper<bool const>\n",
      "                 Always | INFO     | End op: tt::tt_metal::detail::convert_python_tensor_to_tt_tensor\n",
      "                 Always | INFO     | Tensor doesn't have buffer, but storage is tt::tt_metal::BorrowedStorage\n",
      "                 Always | INFO     | Begin op: ttnn::to_layout\n",
      "                 Always | INFO     | Tensor doesn't have buffer, but storage is tt::tt_metal::BorrowedStorage\n",
      "                 Always | INFO     | input any type name ignored: std::__1::reference_wrapper<tt::tt_metal::Layout const>\n",
      "                 Always | INFO     | input any type name ignored: std::__1::reference_wrapper<std::__1::optional<tt::tt_metal::DataType> const>\n",
      "                 Always | INFO     | input any type name ignored: std::__1::reference_wrapper<std::__1::optional<tt::tt_metal::MemoryConfig> const>\n",
      "                 Always | INFO     | input any type name ignored: std::__1::reference_wrapper<tt::tt_metal::IDevice*>\n",
      "                 Always | INFO     | Begin op: Tensor::pad\n",
      "                 Always | INFO     | Tensor doesn't have buffer, but storage is tt::tt_metal::BorrowedStorage\n",
      "                 Always | INFO     | input any type name ignored: std::__1::reference_wrapper<tt::tt_metal::Shape const>\n",
      "                 Always | INFO     | input any type name ignored: std::__1::reference_wrapper<tt::tt_metal::Shape const>\n",
      "                 Always | INFO     | input any type name ignored: std::__1::reference_wrapper<float>\n",
      "                 Always | INFO     | End op: Tensor::pad\n",
      "                 Always | INFO     | Tensor doesn't have buffer, but storage is tt::tt_metal::OwnedStorage\n",
      "                 Always | INFO     | Begin op: Tensor::to_layout\n",
      "                 Always | INFO     | Tensor doesn't have buffer, but storage is tt::tt_metal::OwnedStorage\n",
      "                 Always | INFO     | input any type name ignored: std::__1::reference_wrapper<tt::tt_metal::Layout>\n",
      "                 Always | INFO     | input any type name ignored: std::__1::reference_wrapper<tt::tt_metal::IDevice*>\n",
      "                 Always | INFO     | End op: Tensor::to_layout\n",
      "                 Always | INFO     | Tensor doesn't have buffer, but storage is tt::tt_metal::OwnedStorage\n",
      "                 Always | INFO     | Begin op: ttnn::experimental::view\n",
      "                 Always | INFO     | Tensor doesn't have buffer, but storage is tt::tt_metal::OwnedStorage\n",
      "                 Always | INFO     | input any type name ignored: std::__1::reference_wrapper<tt::tt_metal::Shape>\n",
      "                 Always | INFO     | input any type name ignored: std::__1::reference_wrapper<tt::tt_metal::Shape>\n",
      "                 Always | INFO     | Begin op: Tensor::reshape\n",
      "                 Always | INFO     | Tensor doesn't have buffer, but storage is tt::tt_metal::OwnedStorage\n",
      "                 Always | INFO     | input any type name ignored: std::__1::reference_wrapper<tt::tt_metal::Shape const>\n",
      "                 Always | INFO     | input any type name ignored: std::__1::reference_wrapper<tt::tt_metal::Shape const>\n",
      "                 Always | INFO     | End op: Tensor::reshape\n",
      "                 Always | INFO     | Tensor doesn't have buffer, but storage is tt::tt_metal::OwnedStorage\n",
      "                 Always | INFO     | End op: ttnn::experimental::view\n",
      "                 Always | INFO     | Tensor doesn't have buffer, but storage is tt::tt_metal::OwnedStorage\n",
      "                 Always | INFO     | End op: ttnn::to_layout\n",
      "                 Always | INFO     | Tensor doesn't have buffer, but storage is tt::tt_metal::OwnedStorage\n"
     ]
    }
   ],
   "source": [
    "with trace():\n",
    "  a = ttnn.from_torch(torch.tensor([[3, 3]]), dtype=ttnn.bfloat16, layout=ttnn.TILE_LAYOUT)\n",
    "  b = ttnn.from_torch(torch.tensor([[5], [4]]), dtype=ttnn.bfloat16, layout=ttnn.TILE_LAYOUT)"
   ]
  },
  {
   "cell_type": "markdown",
   "metadata": {},
   "source": [
    "We can run our first visualization of our tensor creation. Do that by calling `visualize` against the 2 tensors we have created. \n",
    "\n",
    "The graph will show that we create the `torch.Tensor` objects first, then convert them into `ttnn.Tensor` objects. We can see exactly what the properties of the `ttnn.Tensor` objects are. (shape, data type, layout, etc.)"
   ]
  },
  {
   "cell_type": "code",
   "execution_count": 5,
   "metadata": {},
   "outputs": [
    {
     "name": "stderr",
     "output_type": "stream",
     "text": [
      "2025-04-20 04:33:27.631 | DEBUG    | ttnn.tracer:visualize:443 - Dumping graph of the model to None\n",
      "2025-04-20 04:33:27.634 | DEBUG    | ttnn.tracer:visualize:443 - Dumping graph of the model to None\n"
     ]
    },
    {
     "data": {
      "image/svg+xml": [
       "<?xml version=\"1.0\" encoding=\"UTF-8\" standalone=\"no\"?>\n",
       "<!DOCTYPE svg PUBLIC \"-//W3C//DTD SVG 1.1//EN\"\n",
       " \"http://www.w3.org/Graphics/SVG/1.1/DTD/svg11.dtd\">\n",
       "<!-- Generated by graphviz version 2.43.0 (0)\n",
       " -->\n",
       "<!-- Title: %3 Pages: 1 -->\n",
       "<svg width=\"422pt\" height=\"222pt\"\n",
       " viewBox=\"0.00 0.00 422.00 222.00\" xmlns=\"http://www.w3.org/2000/svg\" xmlns:xlink=\"http://www.w3.org/1999/xlink\">\n",
       "<g id=\"graph0\" class=\"graph\" transform=\"scale(1 1) rotate(0) translate(4 218)\">\n",
       "<title>%3</title>\n",
       "<polygon fill=\"white\" stroke=\"transparent\" points=\"-4,4 -4,-218 418,-218 418,4 -4,4\"/>\n",
       "<!-- torch_input_0 -->\n",
       "<g id=\"node1\" class=\"node\">\n",
       "<title>torch_input_0</title>\n",
       "<polygon fill=\"#dcdcdc\" stroke=\"black\" points=\"179,-214 113,-214 113,-147 179,-147 179,-214\"/>\n",
       "<polygon fill=\"none\" stroke=\"black\" points=\"114,-197.5 114,-212.5 178,-212.5 178,-197.5 114,-197.5\"/>\n",
       "<text text-anchor=\"start\" x=\"116\" y=\"-202.5\" font-family=\"Linux libertine\" font-size=\"10.00\">torch.Tensor</text>\n",
       "<polygon fill=\"none\" stroke=\"black\" points=\"114,-147.5 114,-196.5 178,-196.5 178,-147.5 114,-147.5\"/>\n",
       "<text text-anchor=\"start\" x=\"124.5\" y=\"-186.5\" font-family=\"Linux libertine\" font-size=\"10.00\">Output 0</text>\n",
       "<text text-anchor=\"start\" x=\"133\" y=\"-175.5\" font-family=\"Linux libertine\" font-size=\"10.00\">(1, 2)</text>\n",
       "<text text-anchor=\"start\" x=\"119.5\" y=\"-164.5\" font-family=\"Linux libertine\" font-size=\"10.00\">torch.int64</text>\n",
       "</g>\n",
       "<!-- ttnn.from_torch_5 -->\n",
       "<g id=\"node2\" class=\"node\">\n",
       "<title>ttnn.from_torch_5</title>\n",
       "<g id=\"a_node2\"><a xlink:href=\"/operation_buffer_report/1\" xlink:title=\"&lt;TABLE&gt;\">\n",
       "<polygon fill=\"#dcdcdc\" stroke=\"black\" points=\"198,-100 0,-100 0,0 198,0 198,-100\"/>\n",
       "<polygon fill=\"none\" stroke=\"black\" points=\"1,-1 1,-99 93,-99 93,-1 1,-1\"/>\n",
       "<text text-anchor=\"start\" x=\"3\" y=\"-47.5\" font-family=\"Linux libertine\" font-size=\"10.00\">1: ttnn.from_torch</text>\n",
       "<polygon fill=\"none\" stroke=\"black\" points=\"94,-50 94,-99 197,-99 197,-50 94,-50\"/>\n",
       "<text text-anchor=\"start\" x=\"128.5\" y=\"-89\" font-family=\"Linux libertine\" font-size=\"10.00\">Input 0</text>\n",
       "<text text-anchor=\"start\" x=\"132.5\" y=\"-78\" font-family=\"Linux libertine\" font-size=\"10.00\">(1, 2)</text>\n",
       "<text text-anchor=\"start\" x=\"119\" y=\"-67\" font-family=\"Linux libertine\" font-size=\"10.00\">torch.int64</text>\n",
       "<polygon fill=\"none\" stroke=\"black\" points=\"94,-1 94,-49 197,-49 197,-1 94,-1\"/>\n",
       "<text text-anchor=\"start\" x=\"124\" y=\"-39\" font-family=\"Linux libertine\" font-size=\"10.00\">Output 0</text>\n",
       "<text text-anchor=\"start\" x=\"113.5\" y=\"-28\" font-family=\"Linux libertine\" font-size=\"10.00\">Shape([1, 2])</text>\n",
       "<text text-anchor=\"start\" x=\"96\" y=\"-17\" font-family=\"Linux libertine\" font-size=\"10.00\">DataType.BFLOAT16</text>\n",
       "<text text-anchor=\"start\" x=\"115.5\" y=\"-6\" font-family=\"Linux libertine\" font-size=\"10.00\">Layout: TILE</text>\n",
       "</a>\n",
       "</g>\n",
       "</g>\n",
       "<!-- torch_input_0&#45;&gt;ttnn.from_torch_5 -->\n",
       "<g id=\"edge1\" class=\"edge\">\n",
       "<title>torch_input_0:#0&#45;&gt;ttnn.from_torch_5:$0</title>\n",
       "<path fill=\"none\" stroke=\"black\" d=\"M146,-147C146,-130.03 146,-123.4 146,-110.3\"/>\n",
       "<polygon fill=\"black\" stroke=\"black\" points=\"149.5,-110 146,-100 142.5,-110 149.5,-110\"/>\n",
       "<text text-anchor=\"middle\" x=\"161.5\" y=\"-121\" font-family=\"Times,serif\" font-size=\"10.00\">0 &#45;&gt; 0</text>\n",
       "</g>\n",
       "<!-- torch_input_6 -->\n",
       "<g id=\"node3\" class=\"node\">\n",
       "<title>torch_input_6</title>\n",
       "<polygon fill=\"#dcdcdc\" stroke=\"black\" points=\"395,-214 329,-214 329,-147 395,-147 395,-214\"/>\n",
       "<polygon fill=\"none\" stroke=\"black\" points=\"330,-197.5 330,-212.5 394,-212.5 394,-197.5 330,-197.5\"/>\n",
       "<text text-anchor=\"start\" x=\"332\" y=\"-202.5\" font-family=\"Linux libertine\" font-size=\"10.00\">torch.Tensor</text>\n",
       "<polygon fill=\"none\" stroke=\"black\" points=\"330,-147.5 330,-196.5 394,-196.5 394,-147.5 330,-147.5\"/>\n",
       "<text text-anchor=\"start\" x=\"340.5\" y=\"-186.5\" font-family=\"Linux libertine\" font-size=\"10.00\">Output 0</text>\n",
       "<text text-anchor=\"start\" x=\"349\" y=\"-175.5\" font-family=\"Linux libertine\" font-size=\"10.00\">(2, 1)</text>\n",
       "<text text-anchor=\"start\" x=\"335.5\" y=\"-164.5\" font-family=\"Linux libertine\" font-size=\"10.00\">torch.int64</text>\n",
       "</g>\n",
       "<!-- ttnn.from_torch_11 -->\n",
       "<g id=\"node4\" class=\"node\">\n",
       "<title>ttnn.from_torch_11</title>\n",
       "<g id=\"a_node4\"><a xlink:href=\"/operation_buffer_report/2\" xlink:title=\"&lt;TABLE&gt;\">\n",
       "<polygon fill=\"#dcdcdc\" stroke=\"black\" points=\"414,-100 216,-100 216,0 414,0 414,-100\"/>\n",
       "<polygon fill=\"none\" stroke=\"black\" points=\"217,-1 217,-99 309,-99 309,-1 217,-1\"/>\n",
       "<text text-anchor=\"start\" x=\"219\" y=\"-47.5\" font-family=\"Linux libertine\" font-size=\"10.00\">2: ttnn.from_torch</text>\n",
       "<polygon fill=\"none\" stroke=\"black\" points=\"310,-50 310,-99 413,-99 413,-50 310,-50\"/>\n",
       "<text text-anchor=\"start\" x=\"344.5\" y=\"-89\" font-family=\"Linux libertine\" font-size=\"10.00\">Input 0</text>\n",
       "<text text-anchor=\"start\" x=\"348.5\" y=\"-78\" font-family=\"Linux libertine\" font-size=\"10.00\">(2, 1)</text>\n",
       "<text text-anchor=\"start\" x=\"335\" y=\"-67\" font-family=\"Linux libertine\" font-size=\"10.00\">torch.int64</text>\n",
       "<polygon fill=\"none\" stroke=\"black\" points=\"310,-1 310,-49 413,-49 413,-1 310,-1\"/>\n",
       "<text text-anchor=\"start\" x=\"340\" y=\"-39\" font-family=\"Linux libertine\" font-size=\"10.00\">Output 0</text>\n",
       "<text text-anchor=\"start\" x=\"329.5\" y=\"-28\" font-family=\"Linux libertine\" font-size=\"10.00\">Shape([2, 1])</text>\n",
       "<text text-anchor=\"start\" x=\"312\" y=\"-17\" font-family=\"Linux libertine\" font-size=\"10.00\">DataType.BFLOAT16</text>\n",
       "<text text-anchor=\"start\" x=\"331.5\" y=\"-6\" font-family=\"Linux libertine\" font-size=\"10.00\">Layout: TILE</text>\n",
       "</a>\n",
       "</g>\n",
       "</g>\n",
       "<!-- torch_input_6&#45;&gt;ttnn.from_torch_11 -->\n",
       "<g id=\"edge2\" class=\"edge\">\n",
       "<title>torch_input_6:#0&#45;&gt;ttnn.from_torch_11:$0</title>\n",
       "<path fill=\"none\" stroke=\"black\" d=\"M362,-147C362,-130.03 362,-123.4 362,-110.3\"/>\n",
       "<polygon fill=\"black\" stroke=\"black\" points=\"365.5,-110 362,-100 358.5,-110 365.5,-110\"/>\n",
       "<text text-anchor=\"middle\" x=\"377.5\" y=\"-121\" font-family=\"Times,serif\" font-size=\"10.00\">0 &#45;&gt; 0</text>\n",
       "</g>\n",
       "</g>\n",
       "</svg>\n"
      ],
      "text/plain": [
       "<graphviz.graphs.Digraph at 0x7e29082b5ba0>"
      ]
     },
     "execution_count": 5,
     "metadata": {},
     "output_type": "execute_result"
    }
   ],
   "source": [
    "\n",
    "visualize(a)\n",
    "visualize(b)"
   ]
  },
  {
   "cell_type": "markdown",
   "metadata": {},
   "source": [
    "Initialize the device and store the handle to perform our operations on. "
   ]
  },
  {
   "cell_type": "code",
   "execution_count": 6,
   "metadata": {},
   "outputs": [
    {
     "name": "stdout",
     "output_type": "stream",
     "text": [
      "                 Device | INFO     | Opening user mode device driver\n",
      "\u001b[32m2025-04-20 04:33:29.483\u001b[0m | \u001b[1m\u001b[38;2;100;149;237mINFO    \u001b[0m | \u001b[36mSiliconDriver  \u001b[0m - Opened PCI device 0; KMD version: 1.33.0, IOMMU: disabled\n",
      "\n",
      "\u001b[32m2025-04-20 04:33:29.494\u001b[0m | \u001b[1m\u001b[38;2;100;149;237mINFO    \u001b[0m | \u001b[36mSiliconDriver  \u001b[0m - Opened PCI device 0; KMD version: 1.33.0, IOMMU: disabled\n",
      "\u001b[32m2025-04-20 04:33:29.496\u001b[0m | \u001b[1m\u001b[38;2;100;149;237mINFO    \u001b[0m | \u001b[36mSiliconDriver  \u001b[0m - Harvesting mask for chip 0 is 0x200 (physical layout: 0x1, logical: 0x200, simulated harvesting mask: 0x0).\n",
      "\u001b[32m2025-04-20 04:33:29.497\u001b[0m | \u001b[1m\u001b[38;2;100;149;237mINFO    \u001b[0m | \u001b[36mSiliconDriver  \u001b[0m - Opened PCI device 0; KMD version: 1.33.0, IOMMU: disabled\n",
      "\u001b[32m2025-04-20 04:33:29.497\u001b[0m | \u001b[1m\u001b[38;2;100;149;237mINFO    \u001b[0m | \u001b[36mSiliconDriver  \u001b[0m - Detected PCI devices: [0]\n",
      "\u001b[32m2025-04-20 04:33:29.497\u001b[0m | \u001b[1m\u001b[38;2;100;149;237mINFO    \u001b[0m | \u001b[36mSiliconDriver  \u001b[0m - Using local chip ids: {0} and remote chip ids {}\n",
      "\u001b[32m2025-04-20 04:33:29.524\u001b[0m | \u001b[1m\u001b[38;2;100;149;237mINFO    \u001b[0m | \u001b[36mSiliconDriver  \u001b[0m - Software version 6.0.0, Ethernet FW version 6.14.0 (Device 0)\n",
      "                  Metal | INFO     | Initializing device 0. Program cache is NOT enabled\n",
      "                  Metal | INFO     | AI CLK for device 0 is:   1000 MHz\n"
     ]
    },
    {
     "name": "stderr",
     "output_type": "stream",
     "text": [
      "New chip! We now have 1 chips\n",
      "Chip initialization complete (found )\n",
      "Chip initializing complete...\n",
      " ARC\n",
      "\n",
      " [4/4] DRAM\n",
      "\n",
      " [16/16] ETH\n",
      "\n",
      " CPU\n",
      "\n",
      "Chip detection complete (found )\n"
     ]
    }
   ],
   "source": [
    "device_id = 0\n",
    "device = ttnn.open_device(device_id=device_id)"
   ]
  },
  {
   "cell_type": "markdown",
   "metadata": {},
   "source": [
    "Send the matrices to the device."
   ]
  },
  {
   "cell_type": "code",
   "execution_count": 7,
   "metadata": {},
   "outputs": [
    {
     "name": "stdout",
     "output_type": "stream",
     "text": [
      "                 Always | INFO     | Begin op: Tensor::to_device\n",
      "                 Always | INFO     | Tensor doesn't have buffer, but storage is tt::tt_metal::OwnedStorage\n",
      "                 Always | INFO     | input any type name ignored: std::__1::reference_wrapper<tt::tt_metal::IDevice*>\n",
      "                 Always | INFO     | input any type name ignored: std::__1::reference_wrapper<tt::tt_metal::MemoryConfig const>\n",
      "                 Always | INFO     | End op: Tensor::to_device\n",
      "                 Always | INFO     | Begin op: Tensor::to_device\n",
      "                 Always | INFO     | Tensor doesn't have buffer, but storage is tt::tt_metal::OwnedStorage\n",
      "                 Always | INFO     | input any type name ignored: std::__1::reference_wrapper<tt::tt_metal::IDevice*>\n",
      "                 Always | INFO     | input any type name ignored: std::__1::reference_wrapper<tt::tt_metal::MemoryConfig const>\n",
      "                 Always | INFO     | End op: Tensor::to_device\n"
     ]
    }
   ],
   "source": [
    "with trace():\n",
    "  a = ttnn.to_device(a, device)\n",
    "  b = ttnn.to_device(b, device)"
   ]
  },
  {
   "cell_type": "markdown",
   "metadata": {},
   "source": [
    "Let's visualize it again. Notice how the visualization now shows movement from the host storage (CPU) to the device storage (ex. Wormhole).\n",
    "\n",
    "We'll see a new property in nodes called \"Memory\". This is where the tensor is stored in the device. The device operates in `TILE` layout. "
   ]
  },
  {
   "cell_type": "code",
   "execution_count": 9,
   "metadata": {},
   "outputs": [
    {
     "name": "stderr",
     "output_type": "stream",
     "text": [
      "2025-04-20 04:35:30.123 | DEBUG    | ttnn.tracer:visualize:443 - Dumping graph of the model to None\n",
      "2025-04-20 04:35:30.126 | DEBUG    | ttnn.tracer:visualize:443 - Dumping graph of the model to None\n"
     ]
    },
    {
     "data": {
      "image/svg+xml": [
       "<?xml version=\"1.0\" encoding=\"UTF-8\" standalone=\"no\"?>\n",
       "<!DOCTYPE svg PUBLIC \"-//W3C//DTD SVG 1.1//EN\"\n",
       " \"http://www.w3.org/Graphics/SVG/1.1/DTD/svg11.dtd\">\n",
       "<!-- Generated by graphviz version 2.43.0 (0)\n",
       " -->\n",
       "<!-- Title: %3 Pages: 1 -->\n",
       "<svg width=\"510pt\" height=\"379pt\"\n",
       " viewBox=\"0.00 0.00 510.00 379.00\" xmlns=\"http://www.w3.org/2000/svg\" xmlns:xlink=\"http://www.w3.org/1999/xlink\">\n",
       "<g id=\"graph0\" class=\"graph\" transform=\"scale(1 1) rotate(0) translate(4 375)\">\n",
       "<title>%3</title>\n",
       "<polygon fill=\"white\" stroke=\"transparent\" points=\"-4,4 -4,-375 506,-375 506,4 -4,4\"/>\n",
       "<!-- torch_input_0 -->\n",
       "<g id=\"node1\" class=\"node\">\n",
       "<title>torch_input_0</title>\n",
       "<polygon fill=\"#dcdcdc\" stroke=\"black\" points=\"198,-371 132,-371 132,-304 198,-304 198,-371\"/>\n",
       "<polygon fill=\"none\" stroke=\"black\" points=\"133,-354.5 133,-369.5 197,-369.5 197,-354.5 133,-354.5\"/>\n",
       "<text text-anchor=\"start\" x=\"135\" y=\"-359.5\" font-family=\"Linux libertine\" font-size=\"10.00\">torch.Tensor</text>\n",
       "<polygon fill=\"none\" stroke=\"black\" points=\"133,-304.5 133,-353.5 197,-353.5 197,-304.5 133,-304.5\"/>\n",
       "<text text-anchor=\"start\" x=\"143.5\" y=\"-343.5\" font-family=\"Linux libertine\" font-size=\"10.00\">Output 0</text>\n",
       "<text text-anchor=\"start\" x=\"152\" y=\"-332.5\" font-family=\"Linux libertine\" font-size=\"10.00\">(1, 2)</text>\n",
       "<text text-anchor=\"start\" x=\"138.5\" y=\"-321.5\" font-family=\"Linux libertine\" font-size=\"10.00\">torch.int64</text>\n",
       "</g>\n",
       "<!-- ttnn.from_torch_5 -->\n",
       "<g id=\"node2\" class=\"node\">\n",
       "<title>ttnn.from_torch_5</title>\n",
       "<g id=\"a_node2\"><a xlink:href=\"/operation_buffer_report/1\" xlink:title=\"&lt;TABLE&gt;\">\n",
       "<polygon fill=\"#dcdcdc\" stroke=\"black\" points=\"217,-257 19,-257 19,-157 217,-157 217,-257\"/>\n",
       "<polygon fill=\"none\" stroke=\"black\" points=\"20,-158 20,-256 112,-256 112,-158 20,-158\"/>\n",
       "<text text-anchor=\"start\" x=\"22\" y=\"-204.5\" font-family=\"Linux libertine\" font-size=\"10.00\">1: ttnn.from_torch</text>\n",
       "<polygon fill=\"none\" stroke=\"black\" points=\"113,-207 113,-256 216,-256 216,-207 113,-207\"/>\n",
       "<text text-anchor=\"start\" x=\"147.5\" y=\"-246\" font-family=\"Linux libertine\" font-size=\"10.00\">Input 0</text>\n",
       "<text text-anchor=\"start\" x=\"151.5\" y=\"-235\" font-family=\"Linux libertine\" font-size=\"10.00\">(1, 2)</text>\n",
       "<text text-anchor=\"start\" x=\"138\" y=\"-224\" font-family=\"Linux libertine\" font-size=\"10.00\">torch.int64</text>\n",
       "<polygon fill=\"none\" stroke=\"black\" points=\"113,-158 113,-206 216,-206 216,-158 113,-158\"/>\n",
       "<text text-anchor=\"start\" x=\"143\" y=\"-196\" font-family=\"Linux libertine\" font-size=\"10.00\">Output 0</text>\n",
       "<text text-anchor=\"start\" x=\"132.5\" y=\"-185\" font-family=\"Linux libertine\" font-size=\"10.00\">Shape([1, 2])</text>\n",
       "<text text-anchor=\"start\" x=\"115\" y=\"-174\" font-family=\"Linux libertine\" font-size=\"10.00\">DataType.BFLOAT16</text>\n",
       "<text text-anchor=\"start\" x=\"134.5\" y=\"-163\" font-family=\"Linux libertine\" font-size=\"10.00\">Layout: TILE</text>\n",
       "</a>\n",
       "</g>\n",
       "</g>\n",
       "<!-- torch_input_0&#45;&gt;ttnn.from_torch_5 -->\n",
       "<g id=\"edge1\" class=\"edge\">\n",
       "<title>torch_input_0:#0&#45;&gt;ttnn.from_torch_5:$0</title>\n",
       "<path fill=\"none\" stroke=\"black\" d=\"M165,-304C165,-287.03 165,-280.4 165,-267.3\"/>\n",
       "<polygon fill=\"black\" stroke=\"black\" points=\"168.5,-267 165,-257 161.5,-267 168.5,-267\"/>\n",
       "<text text-anchor=\"middle\" x=\"180.5\" y=\"-278\" font-family=\"Times,serif\" font-size=\"10.00\">0 &#45;&gt; 0</text>\n",
       "</g>\n",
       "<!-- ttnn.to_device_14 -->\n",
       "<g id=\"node5\" class=\"node\">\n",
       "<title>ttnn.to_device_14</title>\n",
       "<g id=\"a_node5\"><a xlink:href=\"/operation_buffer_report/3\" xlink:title=\"&lt;TABLE&gt;\">\n",
       "<polygon fill=\"#dcdcdc\" stroke=\"black\" points=\"242,-110 0,-110 0,0 242,0 242,-110\"/>\n",
       "<polygon fill=\"none\" stroke=\"black\" points=\"1,-1 1,-109 87,-109 87,-1 1,-1\"/>\n",
       "<text text-anchor=\"start\" x=\"3\" y=\"-52.5\" font-family=\"Linux libertine\" font-size=\"10.00\">3: ttnn.to_device</text>\n",
       "<polygon fill=\"none\" stroke=\"black\" points=\"88,-61 88,-109 241,-109 241,-61 88,-61\"/>\n",
       "<text text-anchor=\"start\" x=\"147.5\" y=\"-99\" font-family=\"Linux libertine\" font-size=\"10.00\">Input 0</text>\n",
       "<text text-anchor=\"start\" x=\"132.5\" y=\"-88\" font-family=\"Linux libertine\" font-size=\"10.00\">Shape([1, 2])</text>\n",
       "<text text-anchor=\"start\" x=\"115\" y=\"-77\" font-family=\"Linux libertine\" font-size=\"10.00\">DataType.BFLOAT16</text>\n",
       "<text text-anchor=\"start\" x=\"134.5\" y=\"-66\" font-family=\"Linux libertine\" font-size=\"10.00\">Layout: TILE</text>\n",
       "<polygon fill=\"none\" stroke=\"black\" points=\"88,-1 88,-60 241,-60 241,-1 88,-1\"/>\n",
       "<text text-anchor=\"start\" x=\"143\" y=\"-50\" font-family=\"Linux libertine\" font-size=\"10.00\">Output 0</text>\n",
       "<text text-anchor=\"start\" x=\"132.5\" y=\"-39\" font-family=\"Linux libertine\" font-size=\"10.00\">Shape([1, 2])</text>\n",
       "<text text-anchor=\"start\" x=\"115\" y=\"-28\" font-family=\"Linux libertine\" font-size=\"10.00\">DataType.BFLOAT16</text>\n",
       "<text text-anchor=\"start\" x=\"134.5\" y=\"-17\" font-family=\"Linux libertine\" font-size=\"10.00\">Layout: TILE</text>\n",
       "<text text-anchor=\"start\" x=\"90\" y=\"-6\" font-family=\"Linux libertine\" font-size=\"10.00\">Memory: DRAM, INTERLEAVED</text>\n",
       "</a>\n",
       "</g>\n",
       "</g>\n",
       "<!-- ttnn.from_torch_5&#45;&gt;ttnn.to_device_14 -->\n",
       "<g id=\"edge3\" class=\"edge\">\n",
       "<title>ttnn.from_torch_5:#0&#45;&gt;ttnn.to_device_14:$0</title>\n",
       "<path fill=\"none\" stroke=\"black\" d=\"M165,-157C165,-140.03 165,-133.4 165,-120.3\"/>\n",
       "<polygon fill=\"black\" stroke=\"black\" points=\"168.5,-120 165,-110 161.5,-120 168.5,-120\"/>\n",
       "<text text-anchor=\"middle\" x=\"180.5\" y=\"-131\" font-family=\"Times,serif\" font-size=\"10.00\">0 &#45;&gt; 0</text>\n",
       "</g>\n",
       "<!-- torch_input_6 -->\n",
       "<g id=\"node3\" class=\"node\">\n",
       "<title>torch_input_6</title>\n",
       "<polygon fill=\"#dcdcdc\" stroke=\"black\" points=\"458,-371 392,-371 392,-304 458,-304 458,-371\"/>\n",
       "<polygon fill=\"none\" stroke=\"black\" points=\"393,-354.5 393,-369.5 457,-369.5 457,-354.5 393,-354.5\"/>\n",
       "<text text-anchor=\"start\" x=\"395\" y=\"-359.5\" font-family=\"Linux libertine\" font-size=\"10.00\">torch.Tensor</text>\n",
       "<polygon fill=\"none\" stroke=\"black\" points=\"393,-304.5 393,-353.5 457,-353.5 457,-304.5 393,-304.5\"/>\n",
       "<text text-anchor=\"start\" x=\"403.5\" y=\"-343.5\" font-family=\"Linux libertine\" font-size=\"10.00\">Output 0</text>\n",
       "<text text-anchor=\"start\" x=\"412\" y=\"-332.5\" font-family=\"Linux libertine\" font-size=\"10.00\">(2, 1)</text>\n",
       "<text text-anchor=\"start\" x=\"398.5\" y=\"-321.5\" font-family=\"Linux libertine\" font-size=\"10.00\">torch.int64</text>\n",
       "</g>\n",
       "<!-- ttnn.from_torch_11 -->\n",
       "<g id=\"node4\" class=\"node\">\n",
       "<title>ttnn.from_torch_11</title>\n",
       "<g id=\"a_node4\"><a xlink:href=\"/operation_buffer_report/2\" xlink:title=\"&lt;TABLE&gt;\">\n",
       "<polygon fill=\"#dcdcdc\" stroke=\"black\" points=\"477,-257 279,-257 279,-157 477,-157 477,-257\"/>\n",
       "<polygon fill=\"none\" stroke=\"black\" points=\"280,-158 280,-256 372,-256 372,-158 280,-158\"/>\n",
       "<text text-anchor=\"start\" x=\"282\" y=\"-204.5\" font-family=\"Linux libertine\" font-size=\"10.00\">2: ttnn.from_torch</text>\n",
       "<polygon fill=\"none\" stroke=\"black\" points=\"373,-207 373,-256 476,-256 476,-207 373,-207\"/>\n",
       "<text text-anchor=\"start\" x=\"407.5\" y=\"-246\" font-family=\"Linux libertine\" font-size=\"10.00\">Input 0</text>\n",
       "<text text-anchor=\"start\" x=\"411.5\" y=\"-235\" font-family=\"Linux libertine\" font-size=\"10.00\">(2, 1)</text>\n",
       "<text text-anchor=\"start\" x=\"398\" y=\"-224\" font-family=\"Linux libertine\" font-size=\"10.00\">torch.int64</text>\n",
       "<polygon fill=\"none\" stroke=\"black\" points=\"373,-158 373,-206 476,-206 476,-158 373,-158\"/>\n",
       "<text text-anchor=\"start\" x=\"403\" y=\"-196\" font-family=\"Linux libertine\" font-size=\"10.00\">Output 0</text>\n",
       "<text text-anchor=\"start\" x=\"392.5\" y=\"-185\" font-family=\"Linux libertine\" font-size=\"10.00\">Shape([2, 1])</text>\n",
       "<text text-anchor=\"start\" x=\"375\" y=\"-174\" font-family=\"Linux libertine\" font-size=\"10.00\">DataType.BFLOAT16</text>\n",
       "<text text-anchor=\"start\" x=\"394.5\" y=\"-163\" font-family=\"Linux libertine\" font-size=\"10.00\">Layout: TILE</text>\n",
       "</a>\n",
       "</g>\n",
       "</g>\n",
       "<!-- torch_input_6&#45;&gt;ttnn.from_torch_11 -->\n",
       "<g id=\"edge2\" class=\"edge\">\n",
       "<title>torch_input_6:#0&#45;&gt;ttnn.from_torch_11:$0</title>\n",
       "<path fill=\"none\" stroke=\"black\" d=\"M425,-304C425,-287.03 425,-280.4 425,-267.3\"/>\n",
       "<polygon fill=\"black\" stroke=\"black\" points=\"428.5,-267 425,-257 421.5,-267 428.5,-267\"/>\n",
       "<text text-anchor=\"middle\" x=\"440.5\" y=\"-278\" font-family=\"Times,serif\" font-size=\"10.00\">0 &#45;&gt; 0</text>\n",
       "</g>\n",
       "<!-- ttnn.to_device_17 -->\n",
       "<g id=\"node6\" class=\"node\">\n",
       "<title>ttnn.to_device_17</title>\n",
       "<g id=\"a_node6\"><a xlink:href=\"/operation_buffer_report/4\" xlink:title=\"&lt;TABLE&gt;\">\n",
       "<polygon fill=\"#dcdcdc\" stroke=\"black\" points=\"502,-110 260,-110 260,0 502,0 502,-110\"/>\n",
       "<polygon fill=\"none\" stroke=\"black\" points=\"261,-1 261,-109 347,-109 347,-1 261,-1\"/>\n",
       "<text text-anchor=\"start\" x=\"263\" y=\"-52.5\" font-family=\"Linux libertine\" font-size=\"10.00\">4: ttnn.to_device</text>\n",
       "<polygon fill=\"none\" stroke=\"black\" points=\"348,-61 348,-109 501,-109 501,-61 348,-61\"/>\n",
       "<text text-anchor=\"start\" x=\"407.5\" y=\"-99\" font-family=\"Linux libertine\" font-size=\"10.00\">Input 0</text>\n",
       "<text text-anchor=\"start\" x=\"392.5\" y=\"-88\" font-family=\"Linux libertine\" font-size=\"10.00\">Shape([2, 1])</text>\n",
       "<text text-anchor=\"start\" x=\"375\" y=\"-77\" font-family=\"Linux libertine\" font-size=\"10.00\">DataType.BFLOAT16</text>\n",
       "<text text-anchor=\"start\" x=\"394.5\" y=\"-66\" font-family=\"Linux libertine\" font-size=\"10.00\">Layout: TILE</text>\n",
       "<polygon fill=\"none\" stroke=\"black\" points=\"348,-1 348,-60 501,-60 501,-1 348,-1\"/>\n",
       "<text text-anchor=\"start\" x=\"403\" y=\"-50\" font-family=\"Linux libertine\" font-size=\"10.00\">Output 0</text>\n",
       "<text text-anchor=\"start\" x=\"392.5\" y=\"-39\" font-family=\"Linux libertine\" font-size=\"10.00\">Shape([2, 1])</text>\n",
       "<text text-anchor=\"start\" x=\"375\" y=\"-28\" font-family=\"Linux libertine\" font-size=\"10.00\">DataType.BFLOAT16</text>\n",
       "<text text-anchor=\"start\" x=\"394.5\" y=\"-17\" font-family=\"Linux libertine\" font-size=\"10.00\">Layout: TILE</text>\n",
       "<text text-anchor=\"start\" x=\"350\" y=\"-6\" font-family=\"Linux libertine\" font-size=\"10.00\">Memory: DRAM, INTERLEAVED</text>\n",
       "</a>\n",
       "</g>\n",
       "</g>\n",
       "<!-- ttnn.from_torch_11&#45;&gt;ttnn.to_device_17 -->\n",
       "<g id=\"edge4\" class=\"edge\">\n",
       "<title>ttnn.from_torch_11:#0&#45;&gt;ttnn.to_device_17:$0</title>\n",
       "<path fill=\"none\" stroke=\"black\" d=\"M425,-157C425,-140.03 425,-133.4 425,-120.3\"/>\n",
       "<polygon fill=\"black\" stroke=\"black\" points=\"428.5,-120 425,-110 421.5,-120 428.5,-120\"/>\n",
       "<text text-anchor=\"middle\" x=\"440.5\" y=\"-131\" font-family=\"Times,serif\" font-size=\"10.00\">0 &#45;&gt; 0</text>\n",
       "</g>\n",
       "</g>\n",
       "</svg>\n"
      ],
      "text/plain": [
       "<graphviz.graphs.Digraph at 0x7e29082d7a60>"
      ]
     },
     "execution_count": 9,
     "metadata": {},
     "output_type": "execute_result"
    }
   ],
   "source": [
    "visualize(a)\n",
    "visualize(b)"
   ]
  },
  {
   "cell_type": "markdown",
   "metadata": {},
   "source": [
    "## Matrix Multiplication\n",
    "\n",
    "Now we can just perform the matrix multiplication while visualizing the result."
   ]
  },
  {
   "cell_type": "code",
   "execution_count": 10,
   "metadata": {},
   "outputs": [
    {
     "name": "stdout",
     "output_type": "stream",
     "text": [
      "                 Always | INFO     | Begin op: ttnn::matmul\n",
      "                 Always | INFO     | input any type name ignored: std::__1::reference_wrapper<bool const>\n",
      "                 Always | INFO     | input any type name ignored: std::__1::reference_wrapper<bool const>\n",
      "                 Always | INFO     | input any type name ignored: std::__1::reference_wrapper<std::__1::optional<tt::tt_metal::MemoryConfig const> const>\n",
      "                 Always | INFO     | input any type name ignored: std::__1::reference_wrapper<std::__1::optional<tt::tt_metal::DataType const> const>\n",
      "                 Always | INFO     | input any type name ignored: std::__1::reference_wrapper<std::__1::optional<std::__1::variant<ttnn::operations::matmul::MatmulMultiCoreProgramConfig, ttnn::operations::matmul::MatmulMultiCoreNonOptimizedReuseProgramConfig, ttnn::operations::matmul::MatmulMultiCoreReuseProgramConfig, ttnn::operations::matmul::MatmulMultiCoreReuseMultiCastProgramConfig, ttnn::operations::matmul::MatmulMultiCoreReuseMultiCast1DProgramConfig, ttnn::operations::matmul::MatmulMultiCoreReuseMultiCastDRAMShardedProgramConfig> const> const>\n",
      "                 Always | INFO     | input any type name ignored: std::__1::reference_wrapper<std::__1::optional<std::__1::basic_string<char, std::__1::char_traits<char>, std::__1::allocator<char>> const> const>\n",
      "                 Always | INFO     | input any type name ignored: std::__1::reference_wrapper<std::__1::optional<std::__1::variant<ttnn::GrayskullComputeKernelConfig, ttnn::WormholeComputeKernelConfig> const> const>\n",
      "                 Always | INFO     | input any type name ignored: std::__1::reference_wrapper<std::__1::optional<ttnn::types::CoreGrid const> const>\n",
      "                 Always | INFO     | input any type name ignored: std::__1::reference_wrapper<std::__1::optional<tt::tt_metal::Tile const> const>\n",
      "                 Always | INFO     | input any type name ignored: std::__1::reference_wrapper<std::__1::optional<std::__1::variant<std::__1::monostate, tt::tt_metal::experimental::GlobalCircularBuffer, ttnn::global_circular_buffer::MultiDeviceGlobalCircularBuffer> const> const>\n",
      "                 Always | INFO     | input any type name ignored: std::__1::reference_wrapper<std::__1::optional<tt::stl::StrongType<unsigned char, tt::tt_metal::SubDeviceIdTag>> const>\n",
      "                 Always | INFO     | Begin op: ttnn::prim::old_infra_device_operation\n",
      "                 Always | INFO     | input any type name ignored: std::__1::reference_wrapper<tt::stl::StrongType<unsigned char, ttnn::QueueIdTag>>\n",
      "                 Always | INFO     | input any type name ignored: std::__1::reference_wrapper<tt::tt_metal::operation::DeviceOperation<std::__1::vector<tt::tt_metal::Tensor, std::__1::allocator<tt::tt_metal::Tensor>>>>\n",
      "                 Always | INFO     | input any type name ignored: std::__1::reference_wrapper<std::__1::vector<tt::tt_metal::Tensor, std::__1::allocator<tt::tt_metal::Tensor>> const>\n",
      "                 Always | INFO     | input any type name ignored: std::__1::reference_wrapper<std::__1::vector<std::__1::optional<tt::tt_metal::Tensor const>, std::__1::allocator<std::__1::optional<tt::tt_metal::Tensor const>>> const>\n",
      "                 Always | INFO     | input any type name ignored: std::__1::reference_wrapper<std::__1::vector<std::__1::optional<tt::tt_metal::Tensor>, std::__1::allocator<std::__1::optional<tt::tt_metal::Tensor>>> const>\n",
      "                 Always | INFO     | Begin op: Matmul\n",
      "                 Always | INFO     | input any type name ignored: std::__1::reference_wrapper<tt::tt_metal::operation::DeviceOperation<std::__1::vector<tt::tt_metal::Tensor, std::__1::allocator<tt::tt_metal::Tensor>>> const>\n",
      "                 Always | INFO     | input any type name ignored: std::__1::reference_wrapper<tt::tt_metal::operation::OldInfraDeviceOperation<std::__1::vector<tt::tt_metal::Tensor, std::__1::allocator<tt::tt_metal::Tensor>>>::tensor_args_t const>\n",
      "                 Always | INFO     | Begin op: tt::tt_metal::create_device_tensor\n",
      "                 Always | INFO     | input any type name ignored: std::__1::reference_wrapper<tt::tt_metal::Shape const>\n",
      "                 Always | INFO     | input any type name ignored: std::__1::reference_wrapper<tt::tt_metal::DataType>\n",
      "                 Always | INFO     | input any type name ignored: std::__1::reference_wrapper<tt::tt_metal::Layout>\n",
      "                 Always | INFO     | input any type name ignored: std::__1::reference_wrapper<tt::tt_metal::IDevice*>\n",
      "                 Always | INFO     | input any type name ignored: std::__1::reference_wrapper<tt::tt_metal::MemoryConfig const>\n",
      "                 Always | INFO     | End op: tt::tt_metal::create_device_tensor\n",
      "                  Metal | WARNING  | Circular buffer indices are not contiguous starting at 0. This will hurt dispatch performance. Non-contiguous indices: 4,5. First unused index: 2. Kernels: reader_bmm_tile_layout_in1_sender_writer_padding, reader_bmm_tile_layout_in0_sender_padding, bmm_large_block_zm_fused_bias_activation\n",
      "                 Always | INFO     | End op: Matmul\n",
      "                 Always | INFO     | End op: ttnn::prim::old_infra_device_operation\n",
      "                 Always | INFO     | End op: ttnn::matmul\n"
     ]
    }
   ],
   "source": [
    "with trace():\n",
    "    c = ttnn.matmul(a, b)"
   ]
  },
  {
   "cell_type": "markdown",
   "metadata": {},
   "source": [
    "Seeing the visualization of the multiplication result is very interesting. You can see how `c` is originated from the 2 tensors `a` and `b`."
   ]
  },
  {
   "cell_type": "code",
   "execution_count": 13,
   "metadata": {},
   "outputs": [
    {
     "name": "stderr",
     "output_type": "stream",
     "text": [
      "2025-04-20 04:39:02.264 | DEBUG    | ttnn.tracer:visualize:443 - Dumping graph of the model to None\n"
     ]
    },
    {
     "data": {
      "image/svg+xml": [
       "<?xml version=\"1.0\" encoding=\"UTF-8\" standalone=\"no\"?>\n",
       "<!DOCTYPE svg PUBLIC \"-//W3C//DTD SVG 1.1//EN\"\n",
       " \"http://www.w3.org/Graphics/SVG/1.1/DTD/svg11.dtd\">\n",
       "<!-- Generated by graphviz version 2.43.0 (0)\n",
       " -->\n",
       "<!-- Title: %3 Pages: 1 -->\n",
       "<svg width=\"510pt\" height=\"547pt\"\n",
       " viewBox=\"0.00 0.00 510.00 547.00\" xmlns=\"http://www.w3.org/2000/svg\" xmlns:xlink=\"http://www.w3.org/1999/xlink\">\n",
       "<g id=\"graph0\" class=\"graph\" transform=\"scale(1 1) rotate(0) translate(4 543)\">\n",
       "<title>%3</title>\n",
       "<polygon fill=\"white\" stroke=\"transparent\" points=\"-4,4 -4,-543 506,-543 506,4 -4,4\"/>\n",
       "<!-- torch_input_0 -->\n",
       "<g id=\"node1\" class=\"node\">\n",
       "<title>torch_input_0</title>\n",
       "<polygon fill=\"#dcdcdc\" stroke=\"black\" points=\"198,-539 132,-539 132,-472 198,-472 198,-539\"/>\n",
       "<polygon fill=\"none\" stroke=\"black\" points=\"133,-522.5 133,-537.5 197,-537.5 197,-522.5 133,-522.5\"/>\n",
       "<text text-anchor=\"start\" x=\"135\" y=\"-527.5\" font-family=\"Linux libertine\" font-size=\"10.00\">torch.Tensor</text>\n",
       "<polygon fill=\"none\" stroke=\"black\" points=\"133,-472.5 133,-521.5 197,-521.5 197,-472.5 133,-472.5\"/>\n",
       "<text text-anchor=\"start\" x=\"143.5\" y=\"-511.5\" font-family=\"Linux libertine\" font-size=\"10.00\">Output 0</text>\n",
       "<text text-anchor=\"start\" x=\"152\" y=\"-500.5\" font-family=\"Linux libertine\" font-size=\"10.00\">(1, 2)</text>\n",
       "<text text-anchor=\"start\" x=\"138.5\" y=\"-489.5\" font-family=\"Linux libertine\" font-size=\"10.00\">torch.int64</text>\n",
       "</g>\n",
       "<!-- ttnn.from_torch_5 -->\n",
       "<g id=\"node2\" class=\"node\">\n",
       "<title>ttnn.from_torch_5</title>\n",
       "<g id=\"a_node2\"><a xlink:href=\"/operation_buffer_report/1\" xlink:title=\"&lt;TABLE&gt;\">\n",
       "<polygon fill=\"#dcdcdc\" stroke=\"black\" points=\"217,-425 19,-425 19,-325 217,-325 217,-425\"/>\n",
       "<polygon fill=\"none\" stroke=\"black\" points=\"20,-326 20,-424 112,-424 112,-326 20,-326\"/>\n",
       "<text text-anchor=\"start\" x=\"22\" y=\"-372.5\" font-family=\"Linux libertine\" font-size=\"10.00\">1: ttnn.from_torch</text>\n",
       "<polygon fill=\"none\" stroke=\"black\" points=\"113,-375 113,-424 216,-424 216,-375 113,-375\"/>\n",
       "<text text-anchor=\"start\" x=\"147.5\" y=\"-414\" font-family=\"Linux libertine\" font-size=\"10.00\">Input 0</text>\n",
       "<text text-anchor=\"start\" x=\"151.5\" y=\"-403\" font-family=\"Linux libertine\" font-size=\"10.00\">(1, 2)</text>\n",
       "<text text-anchor=\"start\" x=\"138\" y=\"-392\" font-family=\"Linux libertine\" font-size=\"10.00\">torch.int64</text>\n",
       "<polygon fill=\"none\" stroke=\"black\" points=\"113,-326 113,-374 216,-374 216,-326 113,-326\"/>\n",
       "<text text-anchor=\"start\" x=\"143\" y=\"-364\" font-family=\"Linux libertine\" font-size=\"10.00\">Output 0</text>\n",
       "<text text-anchor=\"start\" x=\"132.5\" y=\"-353\" font-family=\"Linux libertine\" font-size=\"10.00\">Shape([1, 2])</text>\n",
       "<text text-anchor=\"start\" x=\"115\" y=\"-342\" font-family=\"Linux libertine\" font-size=\"10.00\">DataType.BFLOAT16</text>\n",
       "<text text-anchor=\"start\" x=\"134.5\" y=\"-331\" font-family=\"Linux libertine\" font-size=\"10.00\">Layout: TILE</text>\n",
       "</a>\n",
       "</g>\n",
       "</g>\n",
       "<!-- torch_input_0&#45;&gt;ttnn.from_torch_5 -->\n",
       "<g id=\"edge1\" class=\"edge\">\n",
       "<title>torch_input_0:#0&#45;&gt;ttnn.from_torch_5:$0</title>\n",
       "<path fill=\"none\" stroke=\"black\" d=\"M165,-472C165,-455.03 165,-448.4 165,-435.3\"/>\n",
       "<polygon fill=\"black\" stroke=\"black\" points=\"168.5,-435 165,-425 161.5,-435 168.5,-435\"/>\n",
       "<text text-anchor=\"middle\" x=\"180.5\" y=\"-446\" font-family=\"Times,serif\" font-size=\"10.00\">0 &#45;&gt; 0</text>\n",
       "</g>\n",
       "<!-- ttnn.to_device_14 -->\n",
       "<g id=\"node5\" class=\"node\">\n",
       "<title>ttnn.to_device_14</title>\n",
       "<g id=\"a_node5\"><a xlink:href=\"/operation_buffer_report/3\" xlink:title=\"&lt;TABLE&gt;\">\n",
       "<polygon fill=\"#dcdcdc\" stroke=\"black\" points=\"242,-278 0,-278 0,-168 242,-168 242,-278\"/>\n",
       "<polygon fill=\"none\" stroke=\"black\" points=\"1,-169 1,-277 87,-277 87,-169 1,-169\"/>\n",
       "<text text-anchor=\"start\" x=\"3\" y=\"-220.5\" font-family=\"Linux libertine\" font-size=\"10.00\">3: ttnn.to_device</text>\n",
       "<polygon fill=\"none\" stroke=\"black\" points=\"88,-229 88,-277 241,-277 241,-229 88,-229\"/>\n",
       "<text text-anchor=\"start\" x=\"147.5\" y=\"-267\" font-family=\"Linux libertine\" font-size=\"10.00\">Input 0</text>\n",
       "<text text-anchor=\"start\" x=\"132.5\" y=\"-256\" font-family=\"Linux libertine\" font-size=\"10.00\">Shape([1, 2])</text>\n",
       "<text text-anchor=\"start\" x=\"115\" y=\"-245\" font-family=\"Linux libertine\" font-size=\"10.00\">DataType.BFLOAT16</text>\n",
       "<text text-anchor=\"start\" x=\"134.5\" y=\"-234\" font-family=\"Linux libertine\" font-size=\"10.00\">Layout: TILE</text>\n",
       "<polygon fill=\"none\" stroke=\"black\" points=\"88,-169 88,-228 241,-228 241,-169 88,-169\"/>\n",
       "<text text-anchor=\"start\" x=\"143\" y=\"-218\" font-family=\"Linux libertine\" font-size=\"10.00\">Output 0</text>\n",
       "<text text-anchor=\"start\" x=\"132.5\" y=\"-207\" font-family=\"Linux libertine\" font-size=\"10.00\">Shape([1, 2])</text>\n",
       "<text text-anchor=\"start\" x=\"115\" y=\"-196\" font-family=\"Linux libertine\" font-size=\"10.00\">DataType.BFLOAT16</text>\n",
       "<text text-anchor=\"start\" x=\"134.5\" y=\"-185\" font-family=\"Linux libertine\" font-size=\"10.00\">Layout: TILE</text>\n",
       "<text text-anchor=\"start\" x=\"90\" y=\"-174\" font-family=\"Linux libertine\" font-size=\"10.00\">Memory: DRAM, INTERLEAVED</text>\n",
       "</a>\n",
       "</g>\n",
       "</g>\n",
       "<!-- ttnn.from_torch_5&#45;&gt;ttnn.to_device_14 -->\n",
       "<g id=\"edge3\" class=\"edge\">\n",
       "<title>ttnn.from_torch_5:#0&#45;&gt;ttnn.to_device_14:$0</title>\n",
       "<path fill=\"none\" stroke=\"black\" d=\"M165,-325C165,-308.03 165,-301.4 165,-288.3\"/>\n",
       "<polygon fill=\"black\" stroke=\"black\" points=\"168.5,-288 165,-278 161.5,-288 168.5,-288\"/>\n",
       "<text text-anchor=\"middle\" x=\"180.5\" y=\"-299\" font-family=\"Times,serif\" font-size=\"10.00\">0 &#45;&gt; 0</text>\n",
       "</g>\n",
       "<!-- torch_input_6 -->\n",
       "<g id=\"node3\" class=\"node\">\n",
       "<title>torch_input_6</title>\n",
       "<polygon fill=\"#dcdcdc\" stroke=\"black\" points=\"458,-539 392,-539 392,-472 458,-472 458,-539\"/>\n",
       "<polygon fill=\"none\" stroke=\"black\" points=\"393,-522.5 393,-537.5 457,-537.5 457,-522.5 393,-522.5\"/>\n",
       "<text text-anchor=\"start\" x=\"395\" y=\"-527.5\" font-family=\"Linux libertine\" font-size=\"10.00\">torch.Tensor</text>\n",
       "<polygon fill=\"none\" stroke=\"black\" points=\"393,-472.5 393,-521.5 457,-521.5 457,-472.5 393,-472.5\"/>\n",
       "<text text-anchor=\"start\" x=\"403.5\" y=\"-511.5\" font-family=\"Linux libertine\" font-size=\"10.00\">Output 0</text>\n",
       "<text text-anchor=\"start\" x=\"412\" y=\"-500.5\" font-family=\"Linux libertine\" font-size=\"10.00\">(2, 1)</text>\n",
       "<text text-anchor=\"start\" x=\"398.5\" y=\"-489.5\" font-family=\"Linux libertine\" font-size=\"10.00\">torch.int64</text>\n",
       "</g>\n",
       "<!-- ttnn.from_torch_11 -->\n",
       "<g id=\"node4\" class=\"node\">\n",
       "<title>ttnn.from_torch_11</title>\n",
       "<g id=\"a_node4\"><a xlink:href=\"/operation_buffer_report/2\" xlink:title=\"&lt;TABLE&gt;\">\n",
       "<polygon fill=\"#dcdcdc\" stroke=\"black\" points=\"477,-425 279,-425 279,-325 477,-325 477,-425\"/>\n",
       "<polygon fill=\"none\" stroke=\"black\" points=\"280,-326 280,-424 372,-424 372,-326 280,-326\"/>\n",
       "<text text-anchor=\"start\" x=\"282\" y=\"-372.5\" font-family=\"Linux libertine\" font-size=\"10.00\">2: ttnn.from_torch</text>\n",
       "<polygon fill=\"none\" stroke=\"black\" points=\"373,-375 373,-424 476,-424 476,-375 373,-375\"/>\n",
       "<text text-anchor=\"start\" x=\"407.5\" y=\"-414\" font-family=\"Linux libertine\" font-size=\"10.00\">Input 0</text>\n",
       "<text text-anchor=\"start\" x=\"411.5\" y=\"-403\" font-family=\"Linux libertine\" font-size=\"10.00\">(2, 1)</text>\n",
       "<text text-anchor=\"start\" x=\"398\" y=\"-392\" font-family=\"Linux libertine\" font-size=\"10.00\">torch.int64</text>\n",
       "<polygon fill=\"none\" stroke=\"black\" points=\"373,-326 373,-374 476,-374 476,-326 373,-326\"/>\n",
       "<text text-anchor=\"start\" x=\"403\" y=\"-364\" font-family=\"Linux libertine\" font-size=\"10.00\">Output 0</text>\n",
       "<text text-anchor=\"start\" x=\"392.5\" y=\"-353\" font-family=\"Linux libertine\" font-size=\"10.00\">Shape([2, 1])</text>\n",
       "<text text-anchor=\"start\" x=\"375\" y=\"-342\" font-family=\"Linux libertine\" font-size=\"10.00\">DataType.BFLOAT16</text>\n",
       "<text text-anchor=\"start\" x=\"394.5\" y=\"-331\" font-family=\"Linux libertine\" font-size=\"10.00\">Layout: TILE</text>\n",
       "</a>\n",
       "</g>\n",
       "</g>\n",
       "<!-- torch_input_6&#45;&gt;ttnn.from_torch_11 -->\n",
       "<g id=\"edge2\" class=\"edge\">\n",
       "<title>torch_input_6:#0&#45;&gt;ttnn.from_torch_11:$0</title>\n",
       "<path fill=\"none\" stroke=\"black\" d=\"M425,-472C425,-455.03 425,-448.4 425,-435.3\"/>\n",
       "<polygon fill=\"black\" stroke=\"black\" points=\"428.5,-435 425,-425 421.5,-435 428.5,-435\"/>\n",
       "<text text-anchor=\"middle\" x=\"440.5\" y=\"-446\" font-family=\"Times,serif\" font-size=\"10.00\">0 &#45;&gt; 0</text>\n",
       "</g>\n",
       "<!-- ttnn.to_device_17 -->\n",
       "<g id=\"node6\" class=\"node\">\n",
       "<title>ttnn.to_device_17</title>\n",
       "<g id=\"a_node6\"><a xlink:href=\"/operation_buffer_report/4\" xlink:title=\"&lt;TABLE&gt;\">\n",
       "<polygon fill=\"#dcdcdc\" stroke=\"black\" points=\"502,-278 260,-278 260,-168 502,-168 502,-278\"/>\n",
       "<polygon fill=\"none\" stroke=\"black\" points=\"261,-169 261,-277 347,-277 347,-169 261,-169\"/>\n",
       "<text text-anchor=\"start\" x=\"263\" y=\"-220.5\" font-family=\"Linux libertine\" font-size=\"10.00\">4: ttnn.to_device</text>\n",
       "<polygon fill=\"none\" stroke=\"black\" points=\"348,-229 348,-277 501,-277 501,-229 348,-229\"/>\n",
       "<text text-anchor=\"start\" x=\"407.5\" y=\"-267\" font-family=\"Linux libertine\" font-size=\"10.00\">Input 0</text>\n",
       "<text text-anchor=\"start\" x=\"392.5\" y=\"-256\" font-family=\"Linux libertine\" font-size=\"10.00\">Shape([2, 1])</text>\n",
       "<text text-anchor=\"start\" x=\"375\" y=\"-245\" font-family=\"Linux libertine\" font-size=\"10.00\">DataType.BFLOAT16</text>\n",
       "<text text-anchor=\"start\" x=\"394.5\" y=\"-234\" font-family=\"Linux libertine\" font-size=\"10.00\">Layout: TILE</text>\n",
       "<polygon fill=\"none\" stroke=\"black\" points=\"348,-169 348,-228 501,-228 501,-169 348,-169\"/>\n",
       "<text text-anchor=\"start\" x=\"403\" y=\"-218\" font-family=\"Linux libertine\" font-size=\"10.00\">Output 0</text>\n",
       "<text text-anchor=\"start\" x=\"392.5\" y=\"-207\" font-family=\"Linux libertine\" font-size=\"10.00\">Shape([2, 1])</text>\n",
       "<text text-anchor=\"start\" x=\"375\" y=\"-196\" font-family=\"Linux libertine\" font-size=\"10.00\">DataType.BFLOAT16</text>\n",
       "<text text-anchor=\"start\" x=\"394.5\" y=\"-185\" font-family=\"Linux libertine\" font-size=\"10.00\">Layout: TILE</text>\n",
       "<text text-anchor=\"start\" x=\"350\" y=\"-174\" font-family=\"Linux libertine\" font-size=\"10.00\">Memory: DRAM, INTERLEAVED</text>\n",
       "</a>\n",
       "</g>\n",
       "</g>\n",
       "<!-- ttnn.from_torch_11&#45;&gt;ttnn.to_device_17 -->\n",
       "<g id=\"edge4\" class=\"edge\">\n",
       "<title>ttnn.from_torch_11:#0&#45;&gt;ttnn.to_device_17:$0</title>\n",
       "<path fill=\"none\" stroke=\"black\" d=\"M425,-325C425,-308.03 425,-301.4 425,-288.3\"/>\n",
       "<polygon fill=\"black\" stroke=\"black\" points=\"428.5,-288 425,-278 421.5,-288 428.5,-288\"/>\n",
       "<text text-anchor=\"middle\" x=\"440.5\" y=\"-299\" font-family=\"Times,serif\" font-size=\"10.00\">0 &#45;&gt; 0</text>\n",
       "</g>\n",
       "<!-- ttnn.matmul_20 -->\n",
       "<g id=\"node7\" class=\"node\">\n",
       "<title>ttnn.matmul_20</title>\n",
       "<g id=\"a_node7\"><a xlink:href=\"/operation_buffer_report/5\" xlink:title=\"&lt;TABLE&gt;\">\n",
       "<polygon fill=\"#dcdcdc\" stroke=\"black\" points=\"461.5,-121 74.5,-121 74.5,0 461.5,0 461.5,-121\"/>\n",
       "<polygon fill=\"none\" stroke=\"black\" points=\"76,-0.5 76,-119.5 153,-119.5 153,-0.5 76,-0.5\"/>\n",
       "<text text-anchor=\"start\" x=\"78\" y=\"-57.5\" font-family=\"Linux libertine\" font-size=\"10.00\">5: ttnn.matmul</text>\n",
       "<polygon fill=\"none\" stroke=\"black\" points=\"154,-60.5 154,-119.5 307,-119.5 307,-60.5 154,-60.5\"/>\n",
       "<text text-anchor=\"start\" x=\"213.5\" y=\"-109.5\" font-family=\"Linux libertine\" font-size=\"10.00\">Input 0</text>\n",
       "<text text-anchor=\"start\" x=\"198.5\" y=\"-98.5\" font-family=\"Linux libertine\" font-size=\"10.00\">Shape([1, 2])</text>\n",
       "<text text-anchor=\"start\" x=\"181\" y=\"-87.5\" font-family=\"Linux libertine\" font-size=\"10.00\">DataType.BFLOAT16</text>\n",
       "<text text-anchor=\"start\" x=\"200.5\" y=\"-76.5\" font-family=\"Linux libertine\" font-size=\"10.00\">Layout: TILE</text>\n",
       "<text text-anchor=\"start\" x=\"156\" y=\"-65.5\" font-family=\"Linux libertine\" font-size=\"10.00\">Memory: DRAM, INTERLEAVED</text>\n",
       "<polygon fill=\"none\" stroke=\"black\" points=\"308,-60.5 308,-119.5 461,-119.5 461,-60.5 308,-60.5\"/>\n",
       "<text text-anchor=\"start\" x=\"367.5\" y=\"-109.5\" font-family=\"Linux libertine\" font-size=\"10.00\">Input 1</text>\n",
       "<text text-anchor=\"start\" x=\"352.5\" y=\"-98.5\" font-family=\"Linux libertine\" font-size=\"10.00\">Shape([2, 1])</text>\n",
       "<text text-anchor=\"start\" x=\"335\" y=\"-87.5\" font-family=\"Linux libertine\" font-size=\"10.00\">DataType.BFLOAT16</text>\n",
       "<text text-anchor=\"start\" x=\"354.5\" y=\"-76.5\" font-family=\"Linux libertine\" font-size=\"10.00\">Layout: TILE</text>\n",
       "<text text-anchor=\"start\" x=\"310\" y=\"-65.5\" font-family=\"Linux libertine\" font-size=\"10.00\">Memory: DRAM, INTERLEAVED</text>\n",
       "<polygon fill=\"none\" stroke=\"black\" points=\"154,-0.5 154,-59.5 461,-59.5 461,-0.5 154,-0.5\"/>\n",
       "<text text-anchor=\"start\" x=\"286\" y=\"-49.5\" font-family=\"Linux libertine\" font-size=\"10.00\">Output 0</text>\n",
       "<text text-anchor=\"start\" x=\"275.5\" y=\"-38.5\" font-family=\"Linux libertine\" font-size=\"10.00\">Shape([1, 1])</text>\n",
       "<text text-anchor=\"start\" x=\"258\" y=\"-27.5\" font-family=\"Linux libertine\" font-size=\"10.00\">DataType.BFLOAT16</text>\n",
       "<text text-anchor=\"start\" x=\"277.5\" y=\"-16.5\" font-family=\"Linux libertine\" font-size=\"10.00\">Layout: TILE</text>\n",
       "<text text-anchor=\"start\" x=\"233\" y=\"-5.5\" font-family=\"Linux libertine\" font-size=\"10.00\">Memory: DRAM, INTERLEAVED</text>\n",
       "</a>\n",
       "</g>\n",
       "</g>\n",
       "<!-- ttnn.to_device_14&#45;&gt;ttnn.matmul_20 -->\n",
       "<g id=\"edge5\" class=\"edge\">\n",
       "<title>ttnn.to_device_14:#0&#45;&gt;ttnn.matmul_20:$0</title>\n",
       "<path fill=\"none\" stroke=\"black\" d=\"M165,-168C165,-136.27 216.11,-151.6 227.69,-130.53\"/>\n",
       "<polygon fill=\"black\" stroke=\"black\" points=\"231.16,-131.03 230,-120.5 224.34,-129.46 231.16,-131.03\"/>\n",
       "<text text-anchor=\"middle\" x=\"233.5\" y=\"-142\" font-family=\"Times,serif\" font-size=\"10.00\">0 &#45;&gt; 0</text>\n",
       "</g>\n",
       "<!-- ttnn.to_device_17&#45;&gt;ttnn.matmul_20 -->\n",
       "<g id=\"edge6\" class=\"edge\">\n",
       "<title>ttnn.to_device_17:#0&#45;&gt;ttnn.matmul_20:$1</title>\n",
       "<path fill=\"none\" stroke=\"black\" d=\"M425,-168C425,-144.5 395.99,-146.59 387.38,-130.69\"/>\n",
       "<polygon fill=\"black\" stroke=\"black\" points=\"390.69,-129.44 385,-120.5 383.87,-131.03 390.69,-129.44\"/>\n",
       "<text text-anchor=\"middle\" x=\"429.5\" y=\"-142\" font-family=\"Times,serif\" font-size=\"10.00\">0 &#45;&gt; 1</text>\n",
       "</g>\n",
       "</g>\n",
       "</svg>\n"
      ],
      "text/plain": [
       "<graphviz.graphs.Digraph at 0x7e28dc87e950>"
      ]
     },
     "execution_count": 13,
     "metadata": {},
     "output_type": "execute_result"
    }
   ],
   "source": [
    "visualize(c)"
   ]
  },
  {
   "cell_type": "markdown",
   "metadata": {},
   "source": [
    "## Clean Up\n",
    "\n",
    "Close the device handle to clean up"
   ]
  },
  {
   "cell_type": "code",
   "execution_count": 7,
   "metadata": {},
   "outputs": [
    {
     "name": "stdout",
     "output_type": "stream",
     "text": [
      "                  Metal | INFO     | Closing device 0\n",
      "                  Metal | INFO     | Disabling and clearing program cache on device 0\n"
     ]
    }
   ],
   "source": [
    "ttnn.close_device(device)"
   ]
  }
 ],
 "metadata": {
  "kernelspec": {
   "display_name": "Python 3 (ipykernel)",
   "language": "python",
   "name": "python3"
  },
  "language_info": {
   "codemirror_mode": {
    "name": "ipython",
    "version": 3
   },
   "file_extension": ".py",
   "mimetype": "text/x-python",
   "name": "python",
   "nbconvert_exporter": "python",
   "pygments_lexer": "ipython3",
   "version": "3.10.12"
  }
 },
 "nbformat": 4,
 "nbformat_minor": 2
}
