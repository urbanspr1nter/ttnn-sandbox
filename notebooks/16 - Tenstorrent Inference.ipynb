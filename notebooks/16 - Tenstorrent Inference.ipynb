{
 "cells": [
  {
   "cell_type": "code",
   "execution_count": null,
   "id": "ede98db0",
   "metadata": {},
   "outputs": [],
   "source": [
    "from scripts.gpt2_common import GPT_CONFIG_355M\n",
    "from scripts.gpt2_model_ttnn import GPTModel_ttnn\n",
    "from scripts.load_pretrained_model_ttnn import load_pretrained_gpt2_model_ttnn\n",
    "\n",
    "# todo: import ttnn and open the device.\n",
    "\n",
    "model_ttnn = load_pretrained_gpt2_model_ttnn(\"\", GPT_CONFIG_355M)\n",
    "model_ttnn.update_weights()\n",
    "model_ttnn.eval()\n"
   ]
  }
 ],
 "metadata": {
  "language_info": {
   "name": "python"
  }
 },
 "nbformat": 4,
 "nbformat_minor": 5
}
