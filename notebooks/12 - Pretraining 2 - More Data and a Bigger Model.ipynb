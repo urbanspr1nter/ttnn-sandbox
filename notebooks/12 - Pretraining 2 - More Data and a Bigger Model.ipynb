{
 "cells": [
  {
   "cell_type": "markdown",
   "id": "effa7863",
   "metadata": {},
   "source": [
    "# Pretraining 2: GPT-2 774M"
   ]
  },
  {
   "cell_type": "markdown",
   "id": "ad80f18a",
   "metadata": {},
   "source": []
  }
 ],
 "metadata": {
  "language_info": {
   "name": "python"
  }
 },
 "nbformat": 4,
 "nbformat_minor": 5
}
