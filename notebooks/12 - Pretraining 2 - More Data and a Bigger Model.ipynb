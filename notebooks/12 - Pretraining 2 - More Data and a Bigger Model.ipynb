{
 "cells": [
  {
   "cell_type": "markdown",
   "id": "effa7863",
   "metadata": {},
   "source": [
    "# Pretraining 2: GPT-2 355M "
   ]
  },
  {
   "cell_type": "markdown",
   "id": "ad80f18a",
   "metadata": {},
   "source": [
    "we are going to go big here \n",
    "\n",
    "https://huggingface.co/datasets/PatrickHaller/fineweb-3B"
   ]
  },
  {
   "cell_type": "markdown",
   "id": "feeb4229",
   "metadata": {},
   "source": [
    "This dataset is over 8 GB. So hopefully your internet connection is fast enough."
   ]
  },
  {
   "cell_type": "code",
   "execution_count": 1,
   "id": "0a13aa32",
   "metadata": {},
   "outputs": [
    {
     "name": "stdout",
     "output_type": "stream",
     "text": [
      "Cloning into 'data/fineweb-3b'...\n",
      "remote: Enumerating objects: 35, done.\u001b[K\n",
      "remote: Counting objects: 100% (1/1), done.\u001b[K\n",
      "remote: Total 35 (delta 0), reused 0 (delta 0), pack-reused 34 (from 1)\u001b[K\n",
      "Unpacking objects: 100% (35/35), 6.38 KiB | 1.27 MiB/s, done.\n",
      "Filtering content: 100% (28/28), 7.72 GiB | 99.40 MiB/s, done.\n"
     ]
    }
   ],
   "source": [
    "!git clone https://huggingface.co/datasets/PatrickHaller/fineweb-3B data/fineweb-3b"
   ]
  },
  {
   "cell_type": "markdown",
   "id": "ceafe08b",
   "metadata": {},
   "source": []
  }
 ],
 "metadata": {
  "kernelspec": {
   "display_name": ".venv",
   "language": "python",
   "name": "python3"
  },
  "language_info": {
   "codemirror_mode": {
    "name": "ipython",
    "version": 3
   },
   "file_extension": ".py",
   "mimetype": "text/x-python",
   "name": "python",
   "nbconvert_exporter": "python",
   "pygments_lexer": "ipython3",
   "version": "3.10.11"
  }
 },
 "nbformat": 4,
 "nbformat_minor": 5
}
